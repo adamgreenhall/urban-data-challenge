{
 "metadata": {
  "name": "Untitled0"
 },
 "nbformat": 3,
 "nbformat_minor": 0,
 "worksheets": [
  {
   "cells": [
    {
     "cell_type": "code",
     "collapsed": false,
     "input": [
      "import pandas as pd \n",
      "index_cols = ['date', 'id_route', 'id_trip', 'trip_direction']\n",
      "df = pd.read_csv('data/common_format/san-francisco.csv', \n",
      "    parse_dates=[0]).set_index(index_cols)\n",
      "df = df.drop_duplicates(cols=['id_stop', 'time_arrival'])\n",
      "df_inbound = df.xs(1, level='trip_direction')"
     ],
     "language": "python",
     "metadata": {},
     "outputs": [],
     "prompt_number": 53
    },
    {
     "cell_type": "code",
     "collapsed": false,
     "input": [
      "def merge_stops(trips):\n",
      "    trips.sort(key=lambda trip: len(trip), reverse=True)\n",
      "    real_order = {v:k for k,v in trips[0].id_stop.to_dict().iteritems()}\n",
      "    for trip in trips[1:]:\n",
      "        trip['in_real'] = trip.id_stop.isin(real_order.keys())\n",
      "        print trip\n",
      "        \n",
      "        #for pos, sid in trip.iteritems():\n",
      "        #    if sid in real_order:\n",
      "        #        return\n",
      "    return real_order\n",
      "    \n",
      "x = pd.DataFrame({'id_stop': ['a', 'b' ,'d', 'e']})\n",
      "y = pd.DataFrame({'id_stop': ['b' ,'f']})\n",
      "# print x\n",
      "# print y\n",
      "merge_stops([x, y])"
     ],
     "language": "python",
     "metadata": {},
     "outputs": [
      {
       "output_type": "stream",
       "stream": "stdout",
       "text": [
        "  id_stop in_real\n",
        "0       b    True\n",
        "1       f   False\n"
       ]
      },
      {
       "output_type": "pyout",
       "prompt_number": 44,
       "text": [
        "{'a': 0, 'b': 1, 'd': 2, 'e': 3}"
       ]
      }
     ],
     "prompt_number": 44
    },
    {
     "cell_type": "code",
     "collapsed": false,
     "input": [],
     "language": "python",
     "metadata": {},
     "outputs": [],
     "prompt_number": 34
    },
    {
     "cell_type": "code",
     "collapsed": false,
     "input": [
      "Nstops = df_inbound.groupby(level=['date', 'id_route']).apply(lambda grp: grp.id_stop.unique().size)\n",
      "Nstops.head()"
     ],
     "language": "python",
     "metadata": {},
     "outputs": [
      {
       "ename": "ValueError",
       "evalue": "all the input array dimensions except for the concatenation axis must match exactly",
       "output_type": "pyerr",
       "traceback": [
        "\u001b[0;31m---------------------------------------------------------------------------\u001b[0m\n\u001b[0;31mValueError\u001b[0m                                Traceback (most recent call last)",
        "\u001b[0;32m<ipython-input-61-6f0d8418a8a7>\u001b[0m in \u001b[0;36m<module>\u001b[0;34m()\u001b[0m\n\u001b[0;32m----> 1\u001b[0;31m \u001b[0muniq_stops\u001b[0m \u001b[0;34m=\u001b[0m \u001b[0mdf_inbound\u001b[0m\u001b[0;34m.\u001b[0m\u001b[0mgroupby\u001b[0m\u001b[0;34m(\u001b[0m\u001b[0mlevel\u001b[0m\u001b[0;34m=\u001b[0m\u001b[0;34m[\u001b[0m\u001b[0;34m'date'\u001b[0m\u001b[0;34m,\u001b[0m \u001b[0;34m'id_route'\u001b[0m\u001b[0;34m]\u001b[0m\u001b[0;34m)\u001b[0m\u001b[0;34m.\u001b[0m\u001b[0mapply\u001b[0m\u001b[0;34m(\u001b[0m\u001b[0;32mlambda\u001b[0m \u001b[0mgrp\u001b[0m\u001b[0;34m:\u001b[0m \u001b[0mgrp\u001b[0m\u001b[0;34m.\u001b[0m\u001b[0mid_stop\u001b[0m\u001b[0;34m.\u001b[0m\u001b[0munique\u001b[0m\u001b[0;34m(\u001b[0m\u001b[0;34m)\u001b[0m\u001b[0;34m)\u001b[0m\u001b[0;34m\u001b[0m\u001b[0m\n\u001b[0m\u001b[1;32m      2\u001b[0m \u001b[0mNstops\u001b[0m \u001b[0;34m=\u001b[0m \u001b[0muniq_stops\u001b[0m\u001b[0;34m.\u001b[0m\u001b[0mapply\u001b[0m\u001b[0;34m(\u001b[0m\u001b[0;32mlambda\u001b[0m \u001b[0mgrp\u001b[0m\u001b[0;34m:\u001b[0m \u001b[0mgrp\u001b[0m\u001b[0;34m.\u001b[0m\u001b[0msize\u001b[0m\u001b[0;34m)\u001b[0m\u001b[0;34m\u001b[0m\u001b[0m\n\u001b[1;32m      3\u001b[0m \u001b[0mNstops\u001b[0m\u001b[0;34m.\u001b[0m\u001b[0mhead\u001b[0m\u001b[0;34m(\u001b[0m\u001b[0;34m)\u001b[0m\u001b[0;34m\u001b[0m\u001b[0m\n",
        "\u001b[0;32m/Users/adam/research/code/anaconda/lib/python2.7/site-packages/pandas/core/groupby.pyc\u001b[0m in \u001b[0;36mapply\u001b[0;34m(self, func, *args, **kwargs)\u001b[0m\n\u001b[1;32m    320\u001b[0m         \u001b[0mfunc\u001b[0m \u001b[0;34m=\u001b[0m \u001b[0m_intercept_function\u001b[0m\u001b[0;34m(\u001b[0m\u001b[0mfunc\u001b[0m\u001b[0;34m)\u001b[0m\u001b[0;34m\u001b[0m\u001b[0m\n\u001b[1;32m    321\u001b[0m         \u001b[0mf\u001b[0m \u001b[0;34m=\u001b[0m \u001b[0;32mlambda\u001b[0m \u001b[0mg\u001b[0m\u001b[0;34m:\u001b[0m \u001b[0mfunc\u001b[0m\u001b[0;34m(\u001b[0m\u001b[0mg\u001b[0m\u001b[0;34m,\u001b[0m \u001b[0;34m*\u001b[0m\u001b[0margs\u001b[0m\u001b[0;34m,\u001b[0m \u001b[0;34m**\u001b[0m\u001b[0mkwargs\u001b[0m\u001b[0;34m)\u001b[0m\u001b[0;34m\u001b[0m\u001b[0m\n\u001b[0;32m--> 322\u001b[0;31m         \u001b[0;32mreturn\u001b[0m \u001b[0mself\u001b[0m\u001b[0;34m.\u001b[0m\u001b[0m_python_apply_general\u001b[0m\u001b[0;34m(\u001b[0m\u001b[0mf\u001b[0m\u001b[0;34m)\u001b[0m\u001b[0;34m\u001b[0m\u001b[0m\n\u001b[0m\u001b[1;32m    323\u001b[0m \u001b[0;34m\u001b[0m\u001b[0m\n\u001b[1;32m    324\u001b[0m     \u001b[0;32mdef\u001b[0m \u001b[0m_python_apply_general\u001b[0m\u001b[0;34m(\u001b[0m\u001b[0mself\u001b[0m\u001b[0;34m,\u001b[0m \u001b[0mf\u001b[0m\u001b[0;34m)\u001b[0m\u001b[0;34m:\u001b[0m\u001b[0;34m\u001b[0m\u001b[0m\n",
        "\u001b[0;32m/Users/adam/research/code/anaconda/lib/python2.7/site-packages/pandas/core/groupby.pyc\u001b[0m in \u001b[0;36m_python_apply_general\u001b[0;34m(self, f)\u001b[0m\n\u001b[1;32m    326\u001b[0m \u001b[0;34m\u001b[0m\u001b[0m\n\u001b[1;32m    327\u001b[0m         return self._wrap_applied_output(keys, values,\n\u001b[0;32m--> 328\u001b[0;31m                                          not_indexed_same=mutated)\n\u001b[0m\u001b[1;32m    329\u001b[0m \u001b[0;34m\u001b[0m\u001b[0m\n\u001b[1;32m    330\u001b[0m     \u001b[0;32mdef\u001b[0m \u001b[0maggregate\u001b[0m\u001b[0;34m(\u001b[0m\u001b[0mself\u001b[0m\u001b[0;34m,\u001b[0m \u001b[0mfunc\u001b[0m\u001b[0;34m,\u001b[0m \u001b[0;34m*\u001b[0m\u001b[0margs\u001b[0m\u001b[0;34m,\u001b[0m \u001b[0;34m**\u001b[0m\u001b[0mkwargs\u001b[0m\u001b[0;34m)\u001b[0m\u001b[0;34m:\u001b[0m\u001b[0;34m\u001b[0m\u001b[0m\n",
        "\u001b[0;32m/Users/adam/research/code/anaconda/lib/python2.7/site-packages/pandas/core/groupby.pyc\u001b[0m in \u001b[0;36m_wrap_applied_output\u001b[0;34m(self, keys, values, not_indexed_same)\u001b[0m\n\u001b[1;32m   1768\u001b[0m                 \u001b[0;32mif\u001b[0m \u001b[0mself\u001b[0m\u001b[0;34m.\u001b[0m\u001b[0maxis\u001b[0m \u001b[0;34m==\u001b[0m \u001b[0;36m0\u001b[0m\u001b[0;34m:\u001b[0m\u001b[0;34m\u001b[0m\u001b[0m\n\u001b[1;32m   1769\u001b[0m                     stacked_values = np.vstack([np.asarray(x)\n\u001b[0;32m-> 1770\u001b[0;31m                                                 for x in values])\n\u001b[0m\u001b[1;32m   1771\u001b[0m                     \u001b[0mcolumns\u001b[0m \u001b[0;34m=\u001b[0m \u001b[0mvalues\u001b[0m\u001b[0;34m[\u001b[0m\u001b[0;36m0\u001b[0m\u001b[0;34m]\u001b[0m\u001b[0;34m.\u001b[0m\u001b[0mindex\u001b[0m\u001b[0;34m\u001b[0m\u001b[0m\n\u001b[1;32m   1772\u001b[0m                     \u001b[0mindex\u001b[0m \u001b[0;34m=\u001b[0m \u001b[0mkey_index\u001b[0m\u001b[0;34m\u001b[0m\u001b[0m\n",
        "\u001b[0;32m/Users/adam/research/code/anaconda/lib/python2.7/site-packages/numpy/core/shape_base.pyc\u001b[0m in \u001b[0;36mvstack\u001b[0;34m(tup)\u001b[0m\n\u001b[1;32m    224\u001b[0m \u001b[0;34m\u001b[0m\u001b[0m\n\u001b[1;32m    225\u001b[0m     \"\"\"\n\u001b[0;32m--> 226\u001b[0;31m     \u001b[0;32mreturn\u001b[0m \u001b[0m_nx\u001b[0m\u001b[0;34m.\u001b[0m\u001b[0mconcatenate\u001b[0m\u001b[0;34m(\u001b[0m\u001b[0mmap\u001b[0m\u001b[0;34m(\u001b[0m\u001b[0matleast_2d\u001b[0m\u001b[0;34m,\u001b[0m\u001b[0mtup\u001b[0m\u001b[0;34m)\u001b[0m\u001b[0;34m,\u001b[0m\u001b[0;36m0\u001b[0m\u001b[0;34m)\u001b[0m\u001b[0;34m\u001b[0m\u001b[0m\n\u001b[0m\u001b[1;32m    227\u001b[0m \u001b[0;34m\u001b[0m\u001b[0m\n\u001b[1;32m    228\u001b[0m \u001b[0;32mdef\u001b[0m \u001b[0mhstack\u001b[0m\u001b[0;34m(\u001b[0m\u001b[0mtup\u001b[0m\u001b[0;34m)\u001b[0m\u001b[0;34m:\u001b[0m\u001b[0;34m\u001b[0m\u001b[0m\n",
        "\u001b[0;31mValueError\u001b[0m: all the input array dimensions except for the concatenation axis must match exactly"
       ]
      }
     ],
     "prompt_number": 61
    },
    {
     "cell_type": "code",
     "collapsed": false,
     "input": [
      "stop_counts = df_inbound.groupby(level=['date', 'id_route', 'id_trip']).id_stop.count()\n",
      "print stop_counts.head()"
     ],
     "language": "python",
     "metadata": {},
     "outputs": [
      {
       "output_type": "stream",
       "stream": "stdout",
       "text": [
        "date        id_route  id_trip\n",
        "2012-10-01  1         744        28\n",
        "                      758        28\n",
        "                      847        28\n",
        "                      902        28\n",
        "                      1020       47\n"
       ]
      }
     ],
     "prompt_number": 56
    },
    {
     "cell_type": "code",
     "collapsed": false,
     "input": [
      "max_trip_stop_count = stop_counts.groupby(level=['date', 'id_route']).max()\n",
      "max_trip_id = stop_counts.groupby(level=['date', 'id_route']).idxmax() #.apply(lambda tid: tid[-1])\n",
      "print max_trip_stop_count.head()\n",
      "print max_trip_id.head()"
     ],
     "language": "python",
     "metadata": {},
     "outputs": [
      {
       "output_type": "stream",
       "stream": "stdout",
       "text": [
        "date        id_route\n",
        "2012-10-01  1           47\n",
        "            2           39\n",
        "            3           20\n",
        "            5           47\n",
        "            6           50\n",
        "date        id_route\n",
        "2012-10-01  1           (2012-10-01 00:00:00, 1, 1020)\n",
        "            2            (2012-10-01 00:00:00, 2, 524)\n",
        "            3            (2012-10-01 00:00:00, 3, 728)\n",
        "            5            (2012-10-01 00:00:00, 5, 603)\n",
        "            6            (2012-10-01 00:00:00, 6, 579)\n"
       ]
      }
     ],
     "prompt_number": 57
    },
    {
     "cell_type": "code",
     "collapsed": false,
     "input": [
      "stop_order = {}\n",
      "for rid, route in df_inbound.groupby(level=['date', 'id_route']):\n",
      "    if max_trip_stop_count.ix[rid] >= Nstops.ix[rid]:\n",
      "        stop_order[rid] = df_inbound.ix[max_trip_id.ix[rid]].id_stop.values\n",
      "    else:\n",
      "        print rid, Nstops.ix[rid] - max_trip_stop_count.ix[rid]\n",
      "        print df_inbound.ix[max_trip_id.ix[rid]].id_stop\n",
      "        print df_inbound.ix[rid].id_stop.unique()\n",
      "        missing = pd.Index(df_inbound.ix[rid].id_stop.unique()).diff(df_inbound.ix[max_trip_id.ix[rid]].id_stop.values)\n",
      "        print missing\n",
      "        \n",
      "        # print df_inbound[df_inbound.id_stop.isin(missing)]\n",
      "        print df_inbound.ix[('2012-10-01',3,840)]\n",
      "        barf"
     ],
     "language": "python",
     "metadata": {},
     "outputs": [
      {
       "ename": "NameError",
       "evalue": "name 'barf' is not defined",
       "output_type": "pyerr",
       "traceback": [
        "\u001b[0;31m---------------------------------------------------------------------------\u001b[0m\n\u001b[0;31mNameError\u001b[0m                                 Traceback (most recent call last)",
        "\u001b[0;32m<ipython-input-69-cb5f0148ef0a>\u001b[0m in \u001b[0;36m<module>\u001b[0;34m()\u001b[0m\n\u001b[1;32m     11\u001b[0m         \u001b[0;31m# print df_inbound[df_inbound.id_stop.isin(missing)]\u001b[0m\u001b[0;34m\u001b[0m\u001b[0;34m\u001b[0m\u001b[0m\n\u001b[1;32m     12\u001b[0m         \u001b[0;32mprint\u001b[0m \u001b[0mdf_inbound\u001b[0m\u001b[0;34m.\u001b[0m\u001b[0mix\u001b[0m\u001b[0;34m[\u001b[0m\u001b[0;34m(\u001b[0m\u001b[0;34m'2012-10-01'\u001b[0m\u001b[0;34m,\u001b[0m\u001b[0;36m3\u001b[0m\u001b[0;34m,\u001b[0m\u001b[0;36m840\u001b[0m\u001b[0;34m)\u001b[0m\u001b[0;34m]\u001b[0m\u001b[0;34m\u001b[0m\u001b[0m\n\u001b[0;32m---> 13\u001b[0;31m         \u001b[0mbarf\u001b[0m\u001b[0;34m\u001b[0m\u001b[0m\n\u001b[0m",
        "\u001b[0;31mNameError\u001b[0m: name 'barf' is not defined"
       ]
      },
      {
       "output_type": "stream",
       "stream": "stdout",
       "text": [
        "(<Timestamp: 2012-10-01 00:00:00>, 3) 1.0\n",
        "date        id_route  id_trip\n",
        "2012-10-01  3         728        6089\n",
        "                      728        5161\n",
        "                      728        4636\n",
        "                      728        6592\n",
        "                      728        6588\n",
        "                      728        6600\n",
        "                      728        6018\n",
        "                      728        6020\n",
        "                      728        6124\n",
        "                      728        6024\n",
        "                      728        6021\n",
        "                      728        6016\n",
        "                      728        6126\n",
        "                      728        6017\n",
        "                      728        6127\n",
        "                      728        6023\n",
        "                      728        6022\n",
        "                      728        6125\n",
        "                      728        4826\n",
        "                      728        3815\n",
        "Name: id_stop\n",
        "[6089 5161 4636 6592 6588 6600 6018 6020 6124 6024 6021 6016 6126 6017 6127\n",
        " 6023 6022 6125 4826 3815 6334]\n",
        "Int64Index([6334], dtype=int64)\n",
        "                                    time_arrival  id_stop  count  count_boarding  \\\n",
        "date       id_route id_trip                                                        \n",
        "2012-10-01 3        840      2012-10-01 08:55:32     4636      0               0   \n",
        "                    840      2012-10-01 08:55:56     6592      0               0   \n",
        "                    840      2012-10-01 08:56:11     6588      0               0   \n",
        "                    840      2012-10-01 08:56:20     6600      0               0   \n",
        "                    840      2012-10-01 08:58:07     6018      0               0   \n",
        "                    840      2012-10-01 08:58:47     6020      0               0   \n",
        "                    840      2012-10-01 08:59:22     6124      0               0   \n",
        "                    840      2012-10-01 08:59:48     6024      0               0   \n",
        "                    840      2012-10-01 09:00:19     6021      0               0   \n",
        "                    840      2012-10-01 09:00:39     6016      0               0   \n",
        "                    840      2012-10-01 09:00:48     6126      0               0   \n",
        "                    840      2012-10-01 09:01:08     6017      0               0   \n",
        "                    840      2012-10-01 09:02:15     6127      0               0   \n",
        "                    840      2012-10-01 09:03:27     6023      0               0   \n",
        "                    840      2012-10-01 09:05:07     6022      0               0   \n",
        "                    840      2012-10-01 09:05:37     6125      0               0   \n",
        "                    840      2012-10-01 09:05:56     4826      0               0   \n",
        "                    840      2012-10-01 09:08:50     3815      0               0   \n",
        "                    840      2012-10-01 09:12:42     6334      0               0   \n",
        "\n",
        "                             count_exiting  \n",
        "date       id_route id_trip                 \n",
        "2012-10-01 3        840                  0  \n",
        "                    840                  0  \n",
        "                    840                  0  \n",
        "                    840                  0  \n",
        "                    840                  0  \n",
        "                    840                  0  \n",
        "                    840                  0  \n",
        "                    840                  0  \n",
        "                    840                  0  \n",
        "                    840                  0  \n",
        "                    840                  0  \n",
        "                    840                  0  \n",
        "                    840                  0  \n",
        "                    840                  0  \n",
        "                    840                  0  \n",
        "                    840                  0  \n",
        "                    840                  0  \n",
        "                    840                 71  \n",
        "                    840                  0  \n"
       ]
      }
     ],
     "prompt_number": 69
    },
    {
     "cell_type": "code",
     "collapsed": false,
     "input": [],
     "language": "python",
     "metadata": {},
     "outputs": []
    }
   ],
   "metadata": {}
  }
 ]
}