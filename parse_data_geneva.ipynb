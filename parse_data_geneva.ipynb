{
 "metadata": {
  "name": "parse_data_geneva"
 },
 "nbformat": 3,
 "nbformat_minor": 0,
 "worksheets": [
  {
   "cells": [
    {
     "cell_type": "code",
     "collapsed": false,
     "input": [
      "import pandas as pd\n",
      "import json\n",
      "import utils"
     ],
     "language": "python",
     "metadata": {},
     "outputs": [],
     "prompt_number": 1
    },
    {
     "cell_type": "code",
     "collapsed": false,
     "input": [
      "store = pd.HDFStore('data/geneva/data.hd5')"
     ],
     "language": "python",
     "metadata": {},
     "outputs": [],
     "prompt_number": 2
    },
    {
     "cell_type": "code",
     "collapsed": false,
     "input": [
      "replacements = {\n",
      "'routeCode': 'id_route',\n",
      "'tripId': 'id_trip',\n",
      "'stopCode': 'id_stop',\n",
      "'tripDirection': 'trip_direction',\n",
      "'stopSequenceNr': 'stop_seq',\n",
      "'stopTimeSchedule': 'time_scheduled_arrival',\n",
      "'stopTimeReal': 'time_arrival',\n",
      "'stopLength': 'stop_distance',\n",
      "'passengerCountStopUp': 'count_boarding',\n",
      "'passengerCountStopDown': 'count_exiting',\n",
      "'passengerLoadStop': 'count',\n",
      "}\n",
      "pcounts = pd.read_csv('data/geneva/schedule-real-time.csv', \n",
      "    skiprows=[1],  # skip blank row\n",
      "    usecols=replacements,\n",
      "    parse_dates=['date', 'stopTimeSchedule', 'stopTimeReal'],\n",
      "    \n",
      ").rename(columns=replacements)\n",
      "\n",
      "# A=inbound or S=outbound\n",
      "pcounts['trip_direction'] = pcounts.trip_direction.replace({'A': True, 'S': False}).astype(bool)\n",
      "pcounts"
     ],
     "language": "python",
     "metadata": {},
     "outputs": [
      {
       "output_type": "pyout",
       "prompt_number": 7,
       "text": [
        "<class 'pandas.core.frame.DataFrame'>\n",
        "Int64Index: 1169057 entries, 0 to 1169056\n",
        "Data columns:\n",
        "date                      1169057  non-null values\n",
        "id_route                  1168881  non-null values\n",
        "id_trip                   1169057  non-null values\n",
        "trip_direction            1169057  non-null values\n",
        "stop_seq                  1169057  non-null values\n",
        "id_stop                   1169057  non-null values\n",
        "stop_distance             1169057  non-null values\n",
        "time_scheduled_arrival    1169057  non-null values\n",
        "time_arrival              1169057  non-null values\n",
        "count_boarding            1169057  non-null values\n",
        "count_exiting             1169057  non-null values\n",
        "count                     1169057  non-null values\n",
        "dtypes: bool(1), datetime64[ns](2), int64(6), object(3)"
       ]
      }
     ],
     "prompt_number": 7
    },
    {
     "cell_type": "code",
     "collapsed": false,
     "input": [
      "store['passenger_counts'] = pcounts"
     ],
     "language": "python",
     "metadata": {},
     "outputs": [
      {
       "output_type": "stream",
       "stream": "stderr",
       "text": [
        "/home/adam/research/code/anaconda1.3/lib/python2.7/site-packages/pandas/io/pytables.py:1623: PerformanceWarning: \n",
        "your performance may suffer as PyTables swill pickle object types that it cannot map\n",
        "directly to c-types [inferred_type->mixed-integer,key->block3_values]\n",
        "\n",
        "  warnings.warn(ws, PerformanceWarning)\n"
       ]
      }
     ],
     "prompt_number": 8
    },
    {
     "cell_type": "code",
     "collapsed": false,
     "input": [
      "pcounts.head()"
     ],
     "language": "python",
     "metadata": {},
     "outputs": [
      {
       "html": [
        "<div style=\"max-height:1000px;max-width:1500px;overflow:auto;\">\n",
        "<table border=\"1\" class=\"dataframe\">\n",
        "  <thead>\n",
        "    <tr style=\"text-align: right;\">\n",
        "      <th></th>\n",
        "      <th>date</th>\n",
        "      <th>id_route</th>\n",
        "      <th>id_trip</th>\n",
        "      <th>trip_direction</th>\n",
        "      <th>stop_seq</th>\n",
        "      <th>id_stop</th>\n",
        "      <th>stop_distance</th>\n",
        "      <th>time_scheduled_arrival</th>\n",
        "      <th>time_arrival</th>\n",
        "      <th>count_boarding</th>\n",
        "      <th>count_exiting</th>\n",
        "      <th>count</th>\n",
        "    </tr>\n",
        "  </thead>\n",
        "  <tbody>\n",
        "    <tr>\n",
        "      <th>0</th>\n",
        "      <td>2012-10-01 00:00:00</td>\n",
        "      <td> E</td>\n",
        "      <td> 27098313</td>\n",
        "      <td> True</td>\n",
        "      <td> 2</td>\n",
        "      <td> VOLL02</td>\n",
        "      <td>  599</td>\n",
        "      <td> 2012-10-01 05:26:21</td>\n",
        "      <td>2012-10-01 05:32:46</td>\n",
        "      <td> 0</td>\n",
        "      <td> 0</td>\n",
        "      <td> 2</td>\n",
        "    </tr>\n",
        "    <tr>\n",
        "      <th>1</th>\n",
        "      <td>2012-10-01 00:00:00</td>\n",
        "      <td> E</td>\n",
        "      <td> 27098313</td>\n",
        "      <td> True</td>\n",
        "      <td> 3</td>\n",
        "      <td> PLGE01</td>\n",
        "      <td> 1773</td>\n",
        "      <td> 2012-10-01 05:29:00</td>\n",
        "      <td>2012-10-01 05:34:37</td>\n",
        "      <td> 0</td>\n",
        "      <td> 0</td>\n",
        "      <td> 2</td>\n",
        "    </tr>\n",
        "    <tr>\n",
        "      <th>2</th>\n",
        "      <td>2012-10-01 00:00:00</td>\n",
        "      <td> E</td>\n",
        "      <td> 27098313</td>\n",
        "      <td> True</td>\n",
        "      <td> 4</td>\n",
        "      <td> CRIG00</td>\n",
        "      <td> 2429</td>\n",
        "      <td> 2012-10-01 05:29:50</td>\n",
        "      <td>2012-10-01 05:35:42</td>\n",
        "      <td> 0</td>\n",
        "      <td> 0</td>\n",
        "      <td> 2</td>\n",
        "    </tr>\n",
        "    <tr>\n",
        "      <th>3</th>\n",
        "      <td>2012-10-01 00:00:00</td>\n",
        "      <td> E</td>\n",
        "      <td> 27098313</td>\n",
        "      <td> True</td>\n",
        "      <td> 5</td>\n",
        "      <td> MGRE00</td>\n",
        "      <td> 3071</td>\n",
        "      <td> 2012-10-01 05:30:40</td>\n",
        "      <td>2012-10-01 05:36:22</td>\n",
        "      <td> 0</td>\n",
        "      <td> 0</td>\n",
        "      <td> 2</td>\n",
        "    </tr>\n",
        "    <tr>\n",
        "      <th>4</th>\n",
        "      <td>2012-10-01 00:00:00</td>\n",
        "      <td> E</td>\n",
        "      <td> 27098313</td>\n",
        "      <td> True</td>\n",
        "      <td> 6</td>\n",
        "      <td> TCRE00</td>\n",
        "      <td> 3512</td>\n",
        "      <td> 2012-10-01 05:31:15</td>\n",
        "      <td>2012-10-01 05:36:51</td>\n",
        "      <td> 0</td>\n",
        "      <td> 0</td>\n",
        "      <td> 2</td>\n",
        "    </tr>\n",
        "  </tbody>\n",
        "</table>\n",
        "</div>"
       ],
       "output_type": "pyout",
       "prompt_number": 11,
       "text": [
        "                 date id_route   id_trip trip_direction  stop_seq id_stop  \\\n",
        "0 2012-10-01 00:00:00        E  27098313           True         2  VOLL02   \n",
        "1 2012-10-01 00:00:00        E  27098313           True         3  PLGE01   \n",
        "2 2012-10-01 00:00:00        E  27098313           True         4  CRIG00   \n",
        "3 2012-10-01 00:00:00        E  27098313           True         5  MGRE00   \n",
        "4 2012-10-01 00:00:00        E  27098313           True         6  TCRE00   \n",
        "\n",
        "   stop_distance time_scheduled_arrival        time_arrival  count_boarding  \\\n",
        "0            599    2012-10-01 05:26:21 2012-10-01 05:32:46               0   \n",
        "1           1773    2012-10-01 05:29:00 2012-10-01 05:34:37               0   \n",
        "2           2429    2012-10-01 05:29:50 2012-10-01 05:35:42               0   \n",
        "3           3071    2012-10-01 05:30:40 2012-10-01 05:36:22               0   \n",
        "4           3512    2012-10-01 05:31:15 2012-10-01 05:36:51               0   \n",
        "\n",
        "   count_exiting  count  \n",
        "0              0      2  \n",
        "1              0      2  \n",
        "2              0      2  \n",
        "3              0      2  \n",
        "4              0      2  "
       ]
      }
     ],
     "prompt_number": 11
    },
    {
     "cell_type": "markdown",
     "metadata": {},
     "source": [
      "# Common data format"
     ]
    },
    {
     "cell_type": "code",
     "collapsed": false,
     "input": [
      "pcounts[\n",
      "    ['date', 'id_route', 'id_trip', 'trip_direction', 'stop_seq', 'id_stop', 'stop_distance'] + \\\n",
      "    ['time_arrival', 'time_scheduled_arrival', 'count', 'count_boarding', 'count_exiting']\n",
      "    ].to_csv('data/common_format/geneva.csv', index=False)"
     ],
     "language": "python",
     "metadata": {},
     "outputs": [],
     "prompt_number": 12
    },
    {
     "cell_type": "markdown",
     "metadata": {},
     "source": [
      "# Topojson"
     ]
    },
    {
     "cell_type": "markdown",
     "metadata": {},
     "source": [
      "### Stops"
     ]
    },
    {
     "cell_type": "code",
     "collapsed": false,
     "input": [
      "with open('data/geneva/topojson/stops.json', 'r') as f: \n",
      "    stop_data = json.loads(f.read())"
     ],
     "language": "python",
     "metadata": {},
     "outputs": [],
     "prompt_number": 4
    },
    {
     "cell_type": "code",
     "collapsed": false,
     "input": [
      "pd.DataFrame(map(lambda g: g['properties'], stop_data['objects']['stops']['geometries'])).head()"
     ],
     "language": "python",
     "metadata": {},
     "outputs": [
      {
       "html": [
        "<div style=\"max-height:1000px;max-width:1500px;overflow:auto;\">\n",
        "<table border=\"1\" class=\"dataframe\">\n",
        "  <thead>\n",
        "    <tr style=\"text-align: right;\">\n",
        "      <th></th>\n",
        "      <th>networkCode</th>\n",
        "      <th>routeCode</th>\n",
        "      <th>routeDestination</th>\n",
        "      <th>routeDirection</th>\n",
        "      <th>stopCode</th>\n",
        "      <th>stopName</th>\n",
        "    </tr>\n",
        "  </thead>\n",
        "  <tbody>\n",
        "    <tr>\n",
        "      <th>0</th>\n",
        "      <td> reseau_2012</td>\n",
        "      <td> 43</td>\n",
        "      <td>    Lo\u00ebx-H\u00f4pital</td>\n",
        "      <td> 1</td>\n",
        "      <td> HACH00</td>\n",
        "      <td> Hameau de Ch\u00e8vres</td>\n",
        "    </tr>\n",
        "    <tr>\n",
        "      <th>1</th>\n",
        "      <td> reseau_2012</td>\n",
        "      <td> 43</td>\n",
        "      <td>    Lo\u00ebx-H\u00f4pital</td>\n",
        "      <td> 1</td>\n",
        "      <td> AGVR00</td>\n",
        "      <td>     Aigues-Vertes</td>\n",
        "    </tr>\n",
        "    <tr>\n",
        "      <th>2</th>\n",
        "      <td> reseau_2012</td>\n",
        "      <td> 43</td>\n",
        "      <td>    Lo\u00ebx-H\u00f4pital</td>\n",
        "      <td> 1</td>\n",
        "      <td> LOLA00</td>\n",
        "      <td>      Lo\u00ebx-Lanance</td>\n",
        "    </tr>\n",
        "    <tr>\n",
        "      <th>3</th>\n",
        "      <td> reseau_2012</td>\n",
        "      <td> 43</td>\n",
        "      <td> Stade de Gen\u00e8ve</td>\n",
        "      <td> 2</td>\n",
        "      <td> LOEX00</td>\n",
        "      <td>      Lo\u00ebx-H\u00f4pital</td>\n",
        "    </tr>\n",
        "    <tr>\n",
        "      <th>4</th>\n",
        "      <td> reseau_2012</td>\n",
        "      <td> 43</td>\n",
        "      <td>    Lo\u00ebx-H\u00f4pital</td>\n",
        "      <td> 1</td>\n",
        "      <td> LOEX00</td>\n",
        "      <td>      Lo\u00ebx-H\u00f4pital</td>\n",
        "    </tr>\n",
        "  </tbody>\n",
        "</table>\n",
        "</div>"
       ],
       "output_type": "pyout",
       "prompt_number": 6,
       "text": [
        "   networkCode routeCode routeDestination routeDirection stopCode           stopName\n",
        "0  reseau_2012        43     Lo\u00ebx-H\u00f4pital              1   HACH00  Hameau de Ch\u00e8vres\n",
        "1  reseau_2012        43     Lo\u00ebx-H\u00f4pital              1   AGVR00      Aigues-Vertes\n",
        "2  reseau_2012        43     Lo\u00ebx-H\u00f4pital              1   LOLA00       Lo\u00ebx-Lanance\n",
        "3  reseau_2012        43  Stade de Gen\u00e8ve              2   LOEX00       Lo\u00ebx-H\u00f4pital\n",
        "4  reseau_2012        43     Lo\u00ebx-H\u00f4pital              1   LOEX00       Lo\u00ebx-H\u00f4pital"
       ]
      }
     ],
     "prompt_number": 6
    },
    {
     "cell_type": "code",
     "collapsed": false,
     "input": [
      "replacements = {\n",
      "    'routeCode': 'id_route',\n",
      "    'stopCode': 'id_stop',\n",
      "    'stopName': 'name_stop',\n",
      "    'routeDirection': 'route_direction',\n",
      "    'routeDestination': 'name_route'\n",
      "    }\n",
      "for obj in stop_data['objects']['stops']['geometries']:\n",
      "    obj['properties'] = pd.Series(obj['properties']).rename(replacements).drop(['networkCode']).to_dict()\n",
      "\n",
      "with open('web/data/geneva/stops.json', 'w+') as f:\n",
      "    f.write(json.dumps(stop_data))    "
     ],
     "language": "python",
     "metadata": {},
     "outputs": [],
     "prompt_number": 3
    },
    {
     "cell_type": "code",
     "collapsed": false,
     "input": [
      "stops = pd.DataFrame(topojson.properties(stop_data['objects']['stops']['geometries'], stop_data['transform']))\n",
      "    \n",
      "# convert direction inbound -- 1=False, 2=True, unknowns default to False\n",
      "stops['direction_inbound'] = (stops.direction_inbound.fillna(2).astype(int) - 1).astype(bool)\n",
      "\n",
      "stops"
     ],
     "language": "python",
     "metadata": {},
     "outputs": [
      {
       "output_type": "pyout",
       "prompt_number": 79,
       "text": [
        "<class 'pandas.core.frame.DataFrame'>\n",
        "Int64Index: 4152 entries, 0 to 4151\n",
        "Data columns:\n",
        "direction_inbound    4152  non-null values\n",
        "id_route             4152  non-null values\n",
        "id_stop              4152  non-null values\n",
        "latitude             4152  non-null values\n",
        "longitude            4152  non-null values\n",
        "name_route           4152  non-null values\n",
        "name_stop            4152  non-null values\n",
        "dtypes: bool(1), float64(2), object(4)"
       ]
      }
     ],
     "prompt_number": 79
    },
    {
     "cell_type": "code",
     "collapsed": false,
     "input": [
      "store['stops'] = stops"
     ],
     "language": "python",
     "metadata": {},
     "outputs": [],
     "prompt_number": 61
    },
    {
     "cell_type": "markdown",
     "metadata": {},
     "source": [
      "### Routes"
     ]
    },
    {
     "cell_type": "code",
     "collapsed": false,
     "input": [
      "all_route_ids = pd.read_csv('data/common_format/geneva.csv').id_route.dropna().unique()\n",
      "print(len(all_route_ids))\n",
      "all_route_ids"
     ],
     "language": "python",
     "metadata": {},
     "outputs": [
      {
       "output_type": "stream",
       "stream": "stdout",
       "text": [
        "64\n"
       ]
      },
      {
       "output_type": "pyout",
       "prompt_number": 10,
       "text": [
        "array(['E', '22', '11', '5', '23', '9', '1', 'L', 'A', '33', '34', 'K',\n",
        "       '8', 'C', 'G', '31', '42', '21', '14', '3', '15', '12', 'GB', 'EB',\n",
        "       'V', 'Z', 'VB', '28', '51', 'X', 'B', 'DN', '53', '45', '44', 'S',\n",
        "       '43', 'W', 'F', 'Y', 'D', '41', '47', '57', 'O', '4', '46', '151',\n",
        "       '7', '19', '6', '2', '10', '12B', 'NE', 'NK', 'NC', 'NT', 'ND',\n",
        "       'NM', 'NJ', 'NV', 'NO', 'NS'], dtype=object)"
       ]
      }
     ],
     "prompt_number": 10
    },
    {
     "cell_type": "code",
     "collapsed": false,
     "input": [
      "with open('data/geneva/topojson/routes.json', 'r') as f: \n",
      "    route_data = json.loads(f.read())\n",
      "    \n",
      "route_df = pd.DataFrame(map(\n",
      "    lambda obj: obj['properties'], route_data['objects']['routes']['geometries'])\n",
      "    )\n",
      "replacements = {\n",
      "    'routeCode': 'id_route',\n",
      "    'routeDestination': 'name_route'\n",
      "    }\n",
      "route_df = route_df.rename(columns=replacements)[replacements.values()]\n",
      "\n",
      "# filter to the unique routes in the passenger data\n",
      "route_df = route_df.ix[route_df.id_route.isin(all_route_ids)]\n",
      "\n",
      "# fill in missing name data \n",
      "route_df.ix[pd.isnull(route_df.name_route), 'name_route'] = \\\n",
      "    route_df.ix[pd.isnull(route_df.name_route), 'id_route']"
     ],
     "language": "python",
     "metadata": {},
     "outputs": [],
     "prompt_number": 17
    },
    {
     "cell_type": "code",
     "collapsed": false,
     "input": [
      "route_df"
     ],
     "language": "python",
     "metadata": {},
     "outputs": [
      {
       "output_type": "pyout",
       "prompt_number": 18,
       "text": [
        "<class 'pandas.core.frame.DataFrame'>\n",
        "Int64Index: 110 entries, 0 to 167\n",
        "Data columns:\n",
        "id_route      110  non-null values\n",
        "name_route    110  non-null values\n",
        "dtypes: object(2)"
       ]
      }
     ],
     "prompt_number": 18
    },
    {
     "cell_type": "code",
     "collapsed": false,
     "input": [
      "# filter the json routes to only ones with valid id_route\n",
      "route_data['objects']['routes']['geometries'] = \\\n",
      "    [route_data['objects']['routes']['geometries'][i] for i in route_df.index]\n",
      "\n",
      "for i, obj in enumerate(route_data['objects']['routes']['geometries']):\n",
      "    obj['properties'] = route_df.reset_index().ix[i].apply(utils.native_types).to_dict()\n",
      "\n",
      "with open('web/data/geneva/routes.json', 'w+') as f:\n",
      "    f.write(json.dumps(route_data))"
     ],
     "language": "python",
     "metadata": {},
     "outputs": [],
     "prompt_number": 19
    }
   ],
   "metadata": {}
  }
 ]
}