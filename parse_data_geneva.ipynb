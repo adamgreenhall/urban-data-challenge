{
 "metadata": {
  "name": "parse_data_geneva"
 },
 "nbformat": 3,
 "nbformat_minor": 0,
 "worksheets": [
  {
   "cells": [
    {
     "cell_type": "code",
     "collapsed": false,
     "input": [
      "import pandas as pd\n",
      "store = pd.HDFStore('data/geneva/data.hd5')"
     ],
     "language": "python",
     "metadata": {},
     "outputs": [],
     "prompt_number": 1
    },
    {
     "cell_type": "code",
     "collapsed": false,
     "input": [
      "pcounts = pd.read_csv('data/geneva/schedule-real-time.csv', \n",
      "    skiprows=[1],  # skip blank row\n",
      "    usecols=[\n",
      "        'date',\n",
      "        'routeCode',\n",
      "        'tripId',\n",
      "        'tripDirection',\n",
      "        'stopSequenceNr',\n",
      "        'stopCode',\n",
      "        'stopTimeSchedule',\n",
      "        'stopTimeReal',\n",
      "        'passengerCountStopUp',\n",
      "        'passengerCountStopDown',\n",
      "        'passengerLoadStop',\n",
      "    ],\n",
      "    parse_dates=['date', 'stopTimeSchedule', 'stopTimeReal'],\n",
      "    \n",
      ").rename(columns={\n",
      "    'routeCode': 'id_route',\n",
      "    'tripId': 'id_trip',\n",
      "    'stopCode': 'id_stop',\n",
      "    \n",
      "    'tripDirection': 'direction_inbound',\n",
      "    'stopSequenceNr': 'stop_seq',\n",
      "    'stopTimeSchedule': 'time_scheduled_arrival',\n",
      "    'stopTimeReal': 'time_arrival',\n",
      "    'passengerCountStopUp': 'count_boarding',\n",
      "    'passengerCountStopDown': 'count_exiting',\n",
      "    'passengerLoadStop': 'count',\n",
      "})\n",
      "\n",
      "# A=inbound or S=outbound\n",
      "pcounts['direction_inbound'] = pcounts.direction_inbound.replace({'A': True, 'S': False}).astype(bool)\n",
      "pcounts"
     ],
     "language": "python",
     "metadata": {},
     "outputs": [
      {
       "output_type": "pyout",
       "prompt_number": 16,
       "text": [
        "<class 'pandas.core.frame.DataFrame'>\n",
        "Int64Index: 1169057 entries, 0 to 1169056\n",
        "Data columns:\n",
        "date                      1169057  non-null values\n",
        "id_route                  1168881  non-null values\n",
        "id_trip                   1169057  non-null values\n",
        "direction_inbound         1169057  non-null values\n",
        "stop_seq                  1169057  non-null values\n",
        "id_stop                   1169057  non-null values\n",
        "time_scheduled_arrival    1169057  non-null values\n",
        "time_arrival              1169057  non-null values\n",
        "count_boarding            1169057  non-null values\n",
        "count_exiting             1169057  non-null values\n",
        "count                     1169057  non-null values\n",
        "dtypes: bool(1), int64(5), object(5)"
       ]
      }
     ],
     "prompt_number": 16
    },
    {
     "cell_type": "code",
     "collapsed": false,
     "input": [
      "store['passenger_counts'] = pcounts"
     ],
     "language": "python",
     "metadata": {},
     "outputs": [],
     "prompt_number": 17
    }
   ],
   "metadata": {}
  }
 ]
}