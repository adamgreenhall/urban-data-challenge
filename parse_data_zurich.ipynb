{
 "metadata": {
  "name": "parse_data_zurich"
 },
 "nbformat": 3,
 "nbformat_minor": 0,
 "worksheets": [
  {
   "cells": [
    {
     "cell_type": "code",
     "collapsed": false,
     "input": [
      "import pandas as pd\n",
      "import utils\n",
      "import json"
     ],
     "language": "python",
     "metadata": {},
     "outputs": [],
     "prompt_number": 27
    },
    {
     "cell_type": "code",
     "collapsed": false,
     "input": [
      "store = pd.HDFStore('data/zurich/data.hd5')"
     ],
     "language": "python",
     "metadata": {},
     "outputs": [],
     "prompt_number": 28
    },
    {
     "cell_type": "markdown",
     "metadata": {},
     "source": [
      "# Passenger counts"
     ]
    },
    {
     "cell_type": "code",
     "collapsed": false,
     "input": [
      "header_names = 'serviceDate,routeId,runId,tripStart,direction,stopSequenceNr,stopId,stopNameShort,stopName,vehicleTypeShort,vehicleType,vehicleNumber,passengersBoardingTrip,passengersAlightingTrip,passengersDifferenceTrip,passengersBoardingStop,passengersAlightingStop,passengerLoadStop'.split(',')"
     ],
     "language": "python",
     "metadata": {},
     "outputs": [],
     "prompt_number": 30
    },
    {
     "cell_type": "code",
     "collapsed": false,
     "input": [
      "replacements = {\n",
      "    'serviceDate': 'date',\n",
      "    'routeId': 'id_route',\n",
      "    'tripStart': 'id_trip',  # per trip scheduled start time in seconds since midnight\n",
      "    'direction': 'trip_direction',\n",
      "    'stopId': 'id_stop',\n",
      "    'stopSequenceNr': 'seq_stop',\n",
      "    'passengersBoardingStop': 'count_boarding',\n",
      "    'passengersAlightingStop': 'count_exiting',\n",
      "    'passengerLoadStop': 'count',\n",
      "}\n",
      "pcounts = pd.read_csv('data/zurich/passenger-counts.csv', \n",
      "    # hack - ignore header with different delimiter than body\n",
      "    delimiter=';', skiprows=[0,1],\n",
      "    names=header_names,\n",
      "    usecols=replacements.keys(),\n",
      "    parse_dates=['serviceDate'],\n",
      ").rename(columns=replacements)\n",
      "pcounts['trip_direction'] += -1\n",
      "\n",
      "pcounts"
     ],
     "language": "python",
     "metadata": {},
     "outputs": [
      {
       "output_type": "pyout",
       "prompt_number": 31,
       "text": [
        "<class 'pandas.core.frame.DataFrame'>\n",
        "Int64Index: 172764 entries, 0 to 172763\n",
        "Data columns:\n",
        "date              172764  non-null values\n",
        "id_route          172764  non-null values\n",
        "id_trip           172764  non-null values\n",
        "trip_direction    172764  non-null values\n",
        "seq_stop          172764  non-null values\n",
        "id_stop           172764  non-null values\n",
        "count_boarding    172764  non-null values\n",
        "count_exiting     172764  non-null values\n",
        "count             172764  non-null values\n",
        "dtypes: datetime64[ns](1), int64(8)"
       ]
      }
     ],
     "prompt_number": 31
    },
    {
     "cell_type": "code",
     "collapsed": false,
     "input": [
      "x = pcounts.set_index(['date', 'id_route', 'id_trip', 'trip_direction'])\n",
      "x.head()"
     ],
     "language": "python",
     "metadata": {},
     "outputs": [
      {
       "html": [
        "<div style=\"max-height:1000px;max-width:1500px;overflow:auto;\">\n",
        "<table border=\"1\" class=\"dataframe\">\n",
        "  <thead>\n",
        "    <tr style=\"text-align: right;\">\n",
        "      <th></th>\n",
        "      <th></th>\n",
        "      <th></th>\n",
        "      <th></th>\n",
        "      <th>seq_stop</th>\n",
        "      <th>id_stop</th>\n",
        "      <th>count_boarding</th>\n",
        "      <th>count_exiting</th>\n",
        "      <th>count</th>\n",
        "    </tr>\n",
        "    <tr>\n",
        "      <th>date</th>\n",
        "      <th>id_route</th>\n",
        "      <th>id_trip</th>\n",
        "      <th>trip_direction</th>\n",
        "      <th></th>\n",
        "      <th></th>\n",
        "      <th></th>\n",
        "      <th></th>\n",
        "      <th></th>\n",
        "    </tr>\n",
        "  </thead>\n",
        "  <tbody>\n",
        "    <tr>\n",
        "      <th rowspan=\"5\" valign=\"top\">2012-10-01</th>\n",
        "      <th rowspan=\"5\" valign=\"top\">2</th>\n",
        "      <th rowspan=\"5\" valign=\"top\">21660</th>\n",
        "      <th>1</th>\n",
        "      <td> 2</td>\n",
        "      <td> 1579</td>\n",
        "      <td>  4</td>\n",
        "      <td> 0</td>\n",
        "      <td>  8</td>\n",
        "    </tr>\n",
        "    <tr>\n",
        "      <th>1</th>\n",
        "      <td> 3</td>\n",
        "      <td> 3019</td>\n",
        "      <td>  2</td>\n",
        "      <td> 0</td>\n",
        "      <td> 10</td>\n",
        "    </tr>\n",
        "    <tr>\n",
        "      <th>1</th>\n",
        "      <td> 4</td>\n",
        "      <td>   48</td>\n",
        "      <td> 14</td>\n",
        "      <td> 1</td>\n",
        "      <td> 23</td>\n",
        "    </tr>\n",
        "    <tr>\n",
        "      <th>1</th>\n",
        "      <td> 5</td>\n",
        "      <td> 1548</td>\n",
        "      <td>  0</td>\n",
        "      <td> 3</td>\n",
        "      <td> 20</td>\n",
        "    </tr>\n",
        "    <tr>\n",
        "      <th>1</th>\n",
        "      <td> 6</td>\n",
        "      <td>  883</td>\n",
        "      <td>  1</td>\n",
        "      <td> 0</td>\n",
        "      <td> 21</td>\n",
        "    </tr>\n",
        "  </tbody>\n",
        "</table>\n",
        "</div>"
       ],
       "output_type": "pyout",
       "prompt_number": 33,
       "text": [
        "                                            seq_stop  id_stop  count_boarding  \\\n",
        "date       id_route id_trip trip_direction                                      \n",
        "2012-10-01 2        21660   1                      2     1579               4   \n",
        "                            1                      3     3019               2   \n",
        "                            1                      4       48              14   \n",
        "                            1                      5     1548               0   \n",
        "                            1                      6      883               1   \n",
        "\n",
        "                                            count_exiting  count  \n",
        "date       id_route id_trip trip_direction                        \n",
        "2012-10-01 2        21660   1                           0      8  \n",
        "                            1                           0     10  \n",
        "                            1                           1     23  \n",
        "                            1                           3     20  \n",
        "                            1                           0     21  "
       ]
      }
     ],
     "prompt_number": 33
    },
    {
     "cell_type": "code",
     "collapsed": false,
     "input": [
      "print x.ix[('2012-10-01', 2)].head()\n",
      "print x.ix[('2012-10-02', 2)].head()"
     ],
     "language": "python",
     "metadata": {},
     "outputs": [
      {
       "output_type": "stream",
       "stream": "stdout",
       "text": [
        "                        seq_stop  id_stop  count_boarding  count_exiting  count\n",
        "id_trip trip_direction                                                         \n",
        "21660   1                      2     1579               4              0      8\n",
        "        1                      3     3019               2              0     10\n",
        "        1                      4       48              14              1     23\n",
        "        1                      5     1548               0              3     20\n",
        "        1                      6      883               1              0     21\n",
        "                        seq_stop  id_stop  count_boarding  count_exiting  count\n",
        "id_trip trip_direction                                                         \n",
        "18540   1                      1     1357               2              0      2\n",
        "        1                      2     1579               1              0      3\n",
        "        1                      3     3019               0              0      3\n",
        "        1                      4       48               0              1      2\n",
        "        1                      5     1548               0              0      2\n"
       ]
      }
     ],
     "prompt_number": 37
    },
    {
     "cell_type": "markdown",
     "metadata": {},
     "source": [
      "# Schedule"
     ]
    },
    {
     "cell_type": "code",
     "collapsed": false,
     "input": [
      "schedule_columns = {\n",
      " 'serviceDate': 'date',\n",
      " 'routeNumber': 'id_route',\n",
      " 'tripStart': 'id_trip',  \n",
      " 'direction': 'trip_direction',\n",
      " 'stopNumber': 'id_stop', # yes this is the id to join the pcounts table on, not the number\n",
      " 'arrivalScheduled': 'time_scheduled_arrival',\n",
      " 'departureScheduled': 'time_scheduled_departure',\n",
      " 'arrivalActual': 'time_arrival',\n",
      " 'departureActual': 'time_departure',\n",
      " 'mileage': 'mileage',\n",
      "}\n",
      "\n",
      "schedule = pd.read_csv('data/zurich/schedule-vs-arrival.csv',\n",
      "    delimiter=';', \n",
      "    skiprows=[1], \n",
      "    usecols=schedule_columns.keys(),\n",
      "    parse_dates=['serviceDate'],\n",
      ").rename(columns=schedule_columns)\n",
      "\n",
      "# make this either 0 or 1, instead of 1 or 2\n",
      "schedule['trip_direction'] += -1\n",
      "\n",
      "# parse the times (seconds since midnight)\n",
      "time_cols = [\n",
      "    'time_scheduled_arrival',\n",
      "    'time_scheduled_departure',\n",
      "    'time_arrival',\n",
      "    'time_departure',\n",
      "    ]\n",
      "\n",
      "for col in time_cols:\n",
      "    schedule[col] = pd.DatetimeIndex(schedule.date.apply(lambda t: t.date()) + schedule[col].apply(lambda s: pd.DateOffset(seconds=int(s))))\n",
      "   \n",
      "schedule = schedule[schedule.id_trip.notnull()]\n",
      "schedule['id_trip'] = schedule.id_trip.astype(int)\n",
      "\n",
      "schedule"
     ],
     "language": "python",
     "metadata": {},
     "outputs": [
      {
       "output_type": "pyout",
       "prompt_number": 61,
       "text": [
        "<class 'pandas.core.frame.DataFrame'>\n",
        "Int64Index: 1469016 entries, 0 to 1477876\n",
        "Data columns:\n",
        "date                        1469016  non-null values\n",
        "id_trip                     1469016  non-null values\n",
        "id_route                    1469016  non-null values\n",
        "trip_direction              1469016  non-null values\n",
        "id_stop                     1469016  non-null values\n",
        "number_stop                 1469016  non-null values\n",
        "time_scheduled_arrival      1469016  non-null values\n",
        "time_scheduled_departure    1469016  non-null values\n",
        "time_arrival                1469016  non-null values\n",
        "time_departure              1469016  non-null values\n",
        "mileage                     1469016  non-null values\n",
        "dtypes: datetime64[ns](5), int64(6)"
       ]
      }
     ],
     "prompt_number": 61
    },
    {
     "cell_type": "markdown",
     "metadata": {},
     "source": [
      "# Common data format"
     ]
    },
    {
     "cell_type": "code",
     "collapsed": false,
     "input": [
      "sched_counts = pd.merge(pcounts, schedule,\n",
      "    left_on=['date', 'id_route', 'id_trip', 'trip_direction', 'id_stop'],\n",
      "    right_on=['date', 'id_route', 'id_trip', 'trip_direction', 'id_stop'],\n",
      "    how='inner'\n",
      ")\n",
      "sched_counts"
     ],
     "language": "python",
     "metadata": {},
     "outputs": [
      {
       "output_type": "pyout",
       "prompt_number": 63,
       "text": [
        "<class 'pandas.core.frame.DataFrame'>\n",
        "Int64Index: 662 entries, 0 to 661\n",
        "Data columns:\n",
        "date                        662  non-null values\n",
        "id_route                    662  non-null values\n",
        "id_trip                     662  non-null values\n",
        "trip_direction              662  non-null values\n",
        "seq_stop                    662  non-null values\n",
        "id_stop                     662  non-null values\n",
        "count_boarding              662  non-null values\n",
        "count_exiting               662  non-null values\n",
        "count                       662  non-null values\n",
        "number_stop                 662  non-null values\n",
        "time_scheduled_arrival      662  non-null values\n",
        "time_scheduled_departure    662  non-null values\n",
        "time_arrival                662  non-null values\n",
        "time_departure              662  non-null values\n",
        "mileage                     662  non-null values\n",
        "dtypes: datetime64[ns](5), int64(10)"
       ]
      }
     ],
     "prompt_number": 63
    },
    {
     "cell_type": "code",
     "collapsed": false,
     "input": [
      "sched_counts.reset_index()[\n",
      "    ['date', 'id_route', 'id_trip', 'trip_direction', 'id_stop'] + \\\n",
      "    ['time_arrival', 'time_scheduled_arrival', 'count', 'count_boarding', 'count_exiting', 'time_departure', 'time_scheduled_departure', 'seq_stop']\n",
      "    ].to_csv('data/common_format/zurich.csv', index=False)"
     ],
     "language": "python",
     "metadata": {},
     "outputs": [],
     "prompt_number": 39
    },
    {
     "cell_type": "markdown",
     "metadata": {},
     "source": [
      "# Stops"
     ]
    },
    {
     "cell_type": "code",
     "collapsed": false,
     "input": [
      "stops =pd.read_csv('data/zurich/schedule-vs-arrival.csv', \n",
      "stops =pd.read_csv('data/zurich/schedule-vs-arrival.csv', \n",
      "    usecols=stops_columns.keys(),\n",
      "    sep=';',\n",
      "    skiprows=[1], \n",
      ").rename(columns=stops_columns)\n",
      "\n",
      "stops['longitude'] *= 1e-5\n",
      "stops['latitude'] *= 1e-6\n",
      "\n",
      "stops"
     ],
     "language": "python",
     "metadata": {},
     "outputs": [
      {
       "output_type": "pyout",
       "prompt_number": 20,
       "text": [
        "<class 'pandas.core.frame.DataFrame'>\n",
        "Int64Index: 1477877 entries, 0 to 1477876\n",
        "Data columns:\n",
        "id_route             1477877  non-null values\n",
        "number_route         1477877  non-null values\n",
        "name_route           1477877  non-null values\n",
        "direction_inbound    1477877  non-null values\n",
        "stop_seq             1477877  non-null values\n",
        "id_stop              1477877  non-null values\n",
        "number_stop          1477877  non-null values\n",
        "name_stop            1477877  non-null values\n",
        "longitude            1391237  non-null values\n",
        "latitude             1391237  non-null values\n",
        "dtypes: float64(2), int64(6), object(2)"
       ]
      }
     ],
     "prompt_number": 13
    },
    {
     "cell_type": "code",
     "collapsed": false,
     "input": [
      "store['stops'] = stops"
     ],
     "language": "python",
     "metadata": {},
     "outputs": [],
     "prompt_number": "*"
    },
    {
     "cell_type": "markdown",
     "metadata": {},
     "source": [
      "# Topojson"
     ]
    },
    {
     "cell_type": "markdown",
     "metadata": {},
     "source": [
      "### stops"
     ]
    },
    {
     "cell_type": "code",
     "collapsed": false,
     "input": [
      "with open('data/zurich/topojson/stops.json', 'r') as f: \n",
      "    stop_data = json.loads(f.read())"
     ],
     "language": "python",
     "metadata": {},
     "outputs": [],
     "prompt_number": 45
    },
    {
     "cell_type": "code",
     "collapsed": false,
     "input": [
      "replacements = {\n",
      "    'stopId': 'id_stop',\n",
      "    'stopName': 'name_stop',\n",
      "    # 'stopNumber': 'number_stop',\n",
      "    }\n",
      "stop_df = pd.DataFrame(map(lambda obj: obj['properties'], stop_data['objects']['stops']['geometries']))\n",
      "stop_df = stop_df.rename(columns=replacements)[replacements.values()]\n",
      "print stop_df\n",
      "stop_df.head()"
     ],
     "language": "python",
     "metadata": {},
     "outputs": [
      {
       "output_type": "stream",
       "stream": "stdout",
       "text": [
        "<class 'pandas.core.frame.DataFrame'>\n",
        "Int64Index: 1609 entries, 0 to 1608\n",
        "Data columns:\n",
        "id_stop      1609  non-null values\n",
        "name_stop    1609  non-null values\n",
        "dtypes: int64(1), object(1)\n"
       ]
      },
      {
       "html": [
        "<div style=\"max-height:1000px;max-width:1500px;overflow:auto;\">\n",
        "<table border=\"1\" class=\"dataframe\">\n",
        "  <thead>\n",
        "    <tr style=\"text-align: right;\">\n",
        "      <th></th>\n",
        "      <th>id_stop</th>\n",
        "      <th>name_stop</th>\n",
        "    </tr>\n",
        "  </thead>\n",
        "  <tbody>\n",
        "    <tr>\n",
        "      <th>0</th>\n",
        "      <td> 2735</td>\n",
        "      <td>   Z\u00fcrich, Zoo/Forrenweid</td>\n",
        "    </tr>\n",
        "    <tr>\n",
        "      <th>1</th>\n",
        "      <td> 2735</td>\n",
        "      <td>   Z\u00fcrich, Zoo/Forrenweid</td>\n",
        "    </tr>\n",
        "    <tr>\n",
        "      <th>2</th>\n",
        "      <td> 2740</td>\n",
        "      <td>  Z\u00fcrich, Aargauerstrasse</td>\n",
        "    </tr>\n",
        "    <tr>\n",
        "      <th>3</th>\n",
        "      <td> 2740</td>\n",
        "      <td>  Z\u00fcrich, Aargauerstrasse</td>\n",
        "    </tr>\n",
        "    <tr>\n",
        "      <th>4</th>\n",
        "      <td> 2741</td>\n",
        "      <td> R\u00fcschlikon, Alsenstrasse</td>\n",
        "    </tr>\n",
        "  </tbody>\n",
        "</table>\n",
        "</div>"
       ],
       "output_type": "pyout",
       "prompt_number": 58,
       "text": [
        "   id_stop                 name_stop\n",
        "0     2735    Z\u00fcrich, Zoo/Forrenweid\n",
        "1     2735    Z\u00fcrich, Zoo/Forrenweid\n",
        "2     2740   Z\u00fcrich, Aargauerstrasse\n",
        "3     2740   Z\u00fcrich, Aargauerstrasse\n",
        "4     2741  R\u00fcschlikon, Alsenstrasse"
       ]
      }
     ],
     "prompt_number": 58
    },
    {
     "cell_type": "code",
     "collapsed": false,
     "input": [
      "stop_df.id_stop"
     ],
     "language": "python",
     "metadata": {},
     "outputs": [
      {
       "output_type": "pyout",
       "prompt_number": 60,
       "text": [
        "0     2735\n",
        "1     2735\n",
        "2     2740\n",
        "3     2740\n",
        "4     2741\n",
        "5     1638\n",
        "6     2750\n",
        "7     2008\n",
        "8     2769\n",
        "9     2769\n",
        "10    2771\n",
        "11    2771\n",
        "12    1571\n",
        "13    1571\n",
        "14    2253\n",
        "...\n",
        "1594    2737\n",
        "1595    2516\n",
        "1596    2516\n",
        "1597    2784\n",
        "1598    2784\n",
        "1599    2614\n",
        "1600    2614\n",
        "1601    2617\n",
        "1602    2619\n",
        "1603    2619\n",
        "1604    2619\n",
        "1605    2094\n",
        "1606    2094\n",
        "1607    2375\n",
        "1608    2375\n",
        "Name: id_stop, Length: 1609"
       ]
      }
     ],
     "prompt_number": 60
    },
    {
     "cell_type": "code",
     "collapsed": false,
     "input": [
      "for i, obj in enumerate(stop_data['objects']['stops']['geometries']):\n",
      "    obj['properties'] = stop_df.ix[i].apply(utils.native_types).to_dict()\n",
      "\n",
      "with open('web/data/zurich/stops.json', 'w+') as f:\n",
      "    f.write(json.dumps(stop_data))"
     ],
     "language": "python",
     "metadata": {},
     "outputs": [],
     "prompt_number": 55
    },
    {
     "cell_type": "markdown",
     "metadata": {},
     "source": [
      "### routes"
     ]
    },
    {
     "cell_type": "code",
     "collapsed": false,
     "input": [
      "all_route_ids = pd.read_csv('data/common_format/zurich.csv').id_route.astype(str).unique()\n",
      "print(len(all_route_ids))\n",
      "all_route_ids"
     ],
     "language": "python",
     "metadata": {},
     "outputs": [
      {
       "output_type": "stream",
       "stream": "stdout",
       "text": [
        "64\n"
       ]
      },
      {
       "output_type": "pyout",
       "prompt_number": 21,
       "text": [
        "array(['2', '3', '4', '5', '7', '8', '9', '10', '11', '12', '13', '14',\n",
        "       '15', '31', '32', '33', '46', '61', '62', '64', '66', '67', '69',\n",
        "       '72', '75', '76', '77', '78', '80', '89', '95', '161', '165', '184',\n",
        "       '185', '303', '306', '311', '325', '743', '744', '747', '751',\n",
        "       '753', '786', '912', '29', '34', '70', '94', '304', '309', '323',\n",
        "       '918', '919', '6', '35', '37', '301', '308', '910', '916', '38',\n",
        "       '63'], dtype=object)"
       ]
      }
     ],
     "prompt_number": 21
    },
    {
     "cell_type": "code",
     "collapsed": false,
     "input": [
      "with open('data/zurich/topojson/routes.json', 'r') as f: \n",
      "    route_data = json.loads(f.read())\n",
      "route_df = pd.DataFrame(map(\n",
      "    lambda obj: obj['properties'], route_data['objects']['routes']['geometries'])\n",
      "    )\n",
      "replacements = {\n",
      "    'LineEFA': 'id_route',\n",
      "    'FromStopID': 'id_stop_start',\n",
      "    'ToStopID': 'id_stop_end',\n",
      "    'Length': 'length_route',\n",
      "}\n",
      "route_df = route_df.rename(columns=replacements)[replacements.values()]\n",
      "route_df['length_route'] = route_df.length_route.fillna(0)\n",
      "route_df['name_route'] = route_df.id_route\n",
      "print route_df\n",
      "route_df.head()"
     ],
     "language": "python",
     "metadata": {},
     "outputs": [
      {
       "output_type": "stream",
       "stream": "stdout",
       "text": [
        "<class 'pandas.core.frame.DataFrame'>\n",
        "Int64Index: 2455 entries, 0 to 2454\n",
        "Data columns:\n",
        "length_route     2455  non-null values\n",
        "id_stop_end      2455  non-null values\n",
        "id_stop_start    2455  non-null values\n",
        "id_route         2455  non-null values\n",
        "name_route       2455  non-null values\n",
        "dtypes: float64(1), int64(2), object(2)\n"
       ]
      },
      {
       "html": [
        "<div style=\"max-height:1000px;max-width:1500px;overflow:auto;\">\n",
        "<table border=\"1\" class=\"dataframe\">\n",
        "  <thead>\n",
        "    <tr style=\"text-align: right;\">\n",
        "      <th></th>\n",
        "      <th>length_route</th>\n",
        "      <th>id_stop_end</th>\n",
        "      <th>id_stop_start</th>\n",
        "      <th>id_route</th>\n",
        "      <th>name_route</th>\n",
        "    </tr>\n",
        "  </thead>\n",
        "  <tbody>\n",
        "    <tr>\n",
        "      <th>0</th>\n",
        "      <td> 323</td>\n",
        "      <td> 1745</td>\n",
        "      <td> 2108</td>\n",
        "      <td> 32</td>\n",
        "      <td> 32</td>\n",
        "    </tr>\n",
        "    <tr>\n",
        "      <th>1</th>\n",
        "      <td> 502</td>\n",
        "      <td>  902</td>\n",
        "      <td> 1272</td>\n",
        "      <td> 32</td>\n",
        "      <td> 32</td>\n",
        "    </tr>\n",
        "    <tr>\n",
        "      <th>2</th>\n",
        "      <td> 283</td>\n",
        "      <td> 1357</td>\n",
        "      <td> 1386</td>\n",
        "      <td> 32</td>\n",
        "      <td> 32</td>\n",
        "    </tr>\n",
        "    <tr>\n",
        "      <th>3</th>\n",
        "      <td> 409</td>\n",
        "      <td> 1158</td>\n",
        "      <td> 1644</td>\n",
        "      <td> 32</td>\n",
        "      <td> 32</td>\n",
        "    </tr>\n",
        "    <tr>\n",
        "      <th>4</th>\n",
        "      <td> 169</td>\n",
        "      <td> 1386</td>\n",
        "      <td> 1158</td>\n",
        "      <td> 32</td>\n",
        "      <td> 32</td>\n",
        "    </tr>\n",
        "  </tbody>\n",
        "</table>\n",
        "</div>"
       ],
       "output_type": "pyout",
       "prompt_number": 42,
       "text": [
        "   length_route  id_stop_end  id_stop_start id_route name_route\n",
        "0           323         1745           2108       32         32\n",
        "1           502          902           1272       32         32\n",
        "2           283         1357           1386       32         32\n",
        "3           409         1158           1644       32         32\n",
        "4           169         1386           1158       32         32"
       ]
      }
     ],
     "prompt_number": 42
    },
    {
     "cell_type": "code",
     "collapsed": false,
     "input": [
      "# filter to the unique routes in the passenger data\n",
      "route_df = route_df.ix[route_df.id_route.isin(all_route_ids)]\n",
      "route_df"
     ],
     "language": "python",
     "metadata": {},
     "outputs": [
      {
       "output_type": "pyout",
       "prompt_number": 43,
       "text": [
        "<class 'pandas.core.frame.DataFrame'>\n",
        "Int64Index: 2130 entries, 0 to 2454\n",
        "Data columns:\n",
        "length_route     2130  non-null values\n",
        "id_stop_end      2130  non-null values\n",
        "id_stop_start    2130  non-null values\n",
        "id_route         2130  non-null values\n",
        "name_route       2130  non-null values\n",
        "dtypes: float64(1), int64(2), object(2)"
       ]
      }
     ],
     "prompt_number": 43
    },
    {
     "cell_type": "code",
     "collapsed": false,
     "input": [
      "# filter the json routes to only ones with valid id_route\n",
      "route_data['objects']['routes']['geometries'] = \\\n",
      "    [route_data['objects']['routes']['geometries'][i] for i in route_df.index]\n",
      "\n",
      "for i, obj in enumerate(route_data['objects']['routes']['geometries']):\n",
      "    obj['properties'] = route_df.reset_index().ix[i].apply(utils.native_types).to_dict()\n",
      "\n",
      "with open('web/data/zurich/routes.json', 'w+') as f:\n",
      "    f.write(json.dumps(route_data))"
     ],
     "language": "python",
     "metadata": {},
     "outputs": [],
     "prompt_number": 44
    }
   ],
   "metadata": {}
  }
 ]
}