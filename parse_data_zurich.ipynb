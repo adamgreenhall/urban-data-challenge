{
 "metadata": {
  "name": "parse_data_zurich"
 },
 "nbformat": 3,
 "nbformat_minor": 0,
 "worksheets": [
  {
   "cells": [
    {
     "cell_type": "code",
     "collapsed": false,
     "input": [
      "import pandas as pd\n",
      "import utils\n",
      "import json"
     ],
     "language": "python",
     "metadata": {},
     "outputs": [],
     "prompt_number": 1
    },
    {
     "cell_type": "code",
     "collapsed": false,
     "input": [
      "store = pd.HDFStore('data/zurich/data.hd5')"
     ],
     "language": "python",
     "metadata": {},
     "outputs": [],
     "prompt_number": 2
    },
    {
     "cell_type": "markdown",
     "metadata": {},
     "source": [
      "# Passenger counts"
     ]
    },
    {
     "cell_type": "code",
     "collapsed": false,
     "input": [
      "header_names = 'serviceDate,routeId,runId,tripStart,direction,stopSequenceNr,stopId,stopNameShort,stopName,vehicleTypeShort,vehicleType,vehicleNumber,passengersBoardingTrip,passengersAlightingTrip,passengersDifferenceTrip,passengersBoardingStop,passengersAlightingStop,passengerLoadStop'.split(',')"
     ],
     "language": "python",
     "metadata": {},
     "outputs": [],
     "prompt_number": 4
    },
    {
     "cell_type": "code",
     "collapsed": false,
     "input": [
      "replacements = {\n",
      "    'serviceDate': 'date',\n",
      "    'routeId': 'id_route',\n",
      "    'tripStart': 'id_trip',  # per trip scheduled start time in seconds since midnight\n",
      "    'direction': 'trip_direction',\n",
      "    'stopId': 'id_stop',\n",
      "    'stopSequenceNr': 'seq_stop',\n",
      "    'passengersBoardingStop': 'count_boarding',\n",
      "    'passengersAlightingStop': 'count_exiting',\n",
      "    'passengerLoadStop': 'count',\n",
      "}\n",
      "pcounts = pd.read_csv('data/zurich/passenger-counts.csv', \n",
      "    # hack - ignore header with different delimiter than body\n",
      "    delimiter=';', skiprows=[0,1],\n",
      "    names=header_names,\n",
      "    usecols=replacements.keys(),\n",
      "    parse_dates=['serviceDate'],\n",
      ").rename(columns=replacements)\n",
      "pcounts['trip_direction'] += -1\n",
      "\n",
      "pcounts"
     ],
     "language": "python",
     "metadata": {},
     "outputs": [
      {
       "output_type": "pyout",
       "prompt_number": 14,
       "text": [
        "<class 'pandas.core.frame.DataFrame'>\n",
        "Int64Index: 172764 entries, 0 to 172763\n",
        "Data columns:\n",
        "date              172764  non-null values\n",
        "id_route          172764  non-null values\n",
        "id_trip           172764  non-null values\n",
        "trip_direction    172764  non-null values\n",
        "seq_stop          172764  non-null values\n",
        "id_stop           172764  non-null values\n",
        "count_boarding    172764  non-null values\n",
        "count_exiting     172764  non-null values\n",
        "count             172764  non-null values\n",
        "dtypes: datetime64[ns](1), int64(8)"
       ]
      }
     ],
     "prompt_number": 14
    },
    {
     "cell_type": "markdown",
     "metadata": {},
     "source": [
      "# Schedule"
     ]
    },
    {
     "cell_type": "code",
     "collapsed": false,
     "input": [
      "schedule_columns = {\n",
      " 'serviceDate': 'date',\n",
      " 'routeNumber': 'id_route',\n",
      " 'tripStart': 'id_trip',  \n",
      " 'direction': 'trip_direction',\n",
      " 'stopNumber': 'id_stop', \n",
      " 'arrivalScheduled': 'time_scheduled_arrival',\n",
      " 'departureScheduled': 'time_scheduled_departure',\n",
      " 'arrivalActual': 'time_arrival',\n",
      " 'departureActual': 'time_departure',\n",
      " 'mileage': 'mileage',\n",
      "}\n",
      "\n",
      "schedule = pd.read_csv('data/zurich/schedule-vs-arrival.csv',\n",
      "    delimiter=';', \n",
      "    skiprows=[1], \n",
      "    usecols=schedule_columns.keys(),\n",
      "    parse_dates=['serviceDate'],\n",
      ").rename(columns=schedule_columns)\n",
      "\n",
      "# make this either 0 or 1, instead of 1 or 2\n",
      "schedule['trip_direction'] += -1\n",
      "\n",
      "# parse the times (seconds since midnight)\n",
      "time_cols = [\n",
      "    'time_scheduled_arrival',\n",
      "    'time_scheduled_departure',\n",
      "    'time_arrival',\n",
      "    'time_departure',\n",
      "    ]\n",
      "\n",
      "for col in time_cols:\n",
      "    schedule[col] = pd.DatetimeIndex(schedule.date.apply(lambda t: t.date()) + schedule[col].apply(lambda s: pd.DateOffset(seconds=int(s))))\n",
      "   \n",
      "schedule = schedule[schedule.id_trip.notnull()]\n",
      "schedule['id_trip'] = schedule.id_trip.astype(int)\n",
      "\n",
      "schedule"
     ],
     "language": "python",
     "metadata": {},
     "outputs": [
      {
       "output_type": "pyout",
       "prompt_number": 26,
       "text": [
        "<class 'pandas.core.frame.DataFrame'>\n",
        "Int64Index: 1469016 entries, 0 to 1477876\n",
        "Data columns:\n",
        "date                        1469016  non-null values\n",
        "id_trip                     1469016  non-null values\n",
        "id_route                    1469016  non-null values\n",
        "trip_direction              1469016  non-null values\n",
        "id_stop                     1469016  non-null values\n",
        "time_scheduled_arrival      1469016  non-null values\n",
        "time_scheduled_departure    1469016  non-null values\n",
        "time_arrival                1469016  non-null values\n",
        "time_departure              1469016  non-null values\n",
        "mileage                     1469016  non-null values\n",
        "dtypes: datetime64[ns](5), int64(5)"
       ]
      }
     ],
     "prompt_number": 26
    },
    {
     "cell_type": "markdown",
     "metadata": {},
     "source": [
      "# Common data format"
     ]
    },
    {
     "cell_type": "code",
     "collapsed": false,
     "input": [
      "sched_counts = pd.merge(pcounts, schedule,\n",
      "    left_on=['date', 'id_route', 'id_trip', 'trip_direction', 'id_stop'],\n",
      "    right_on=['date', 'id_route', 'id_trip', 'trip_direction', 'id_stop'],\n",
      "    how='inner'\n",
      ")\n",
      "sched_counts"
     ],
     "language": "python",
     "metadata": {},
     "outputs": [
      {
       "output_type": "pyout",
       "prompt_number": 43,
       "text": [
        "<class 'pandas.core.frame.DataFrame'>\n",
        "Int64Index: 145573 entries, 0 to 145572\n",
        "Data columns:\n",
        "date                        145573  non-null values\n",
        "id_route                    145573  non-null values\n",
        "id_trip                     145573  non-null values\n",
        "trip_direction              145573  non-null values\n",
        "seq_stop                    145573  non-null values\n",
        "id_stop                     145573  non-null values\n",
        "count_boarding              145573  non-null values\n",
        "count_exiting               145573  non-null values\n",
        "count                       145573  non-null values\n",
        "time_scheduled_arrival      145573  non-null values\n",
        "time_scheduled_departure    145573  non-null values\n",
        "time_arrival                145573  non-null values\n",
        "time_departure              145573  non-null values\n",
        "mileage                     145573  non-null values\n",
        "dtypes: datetime64[ns](5), int64(9)"
       ]
      }
     ],
     "prompt_number": 43
    },
    {
     "cell_type": "code",
     "collapsed": false,
     "input": [
      "# infer stop distances from mileage\n",
      "index_cols = ['date', 'id_route', 'id_trip', 'trip_direction']\n",
      "sched_counts['stop_distance'] = np.nan\n",
      "sched_counts = sched_counts.sort(index_cols + ['time_arrival']).set_index(index_cols)\n",
      "for idx, trip in sched_counts.groupby(level=index_cols):\n",
      "    sched_counts.ix[idx, 'stop_distance'] = trip.mileage.diff().cumsum()\n",
      "\n",
      "sched_counts['stop_distance'] = sched_counts.stop_distance.fillna(0)"
     ],
     "language": "python",
     "metadata": {},
     "outputs": [],
     "prompt_number": 44
    },
    {
     "cell_type": "code",
     "collapsed": false,
     "input": [
      "sched_counts.reset_index()[\n",
      "    ['date', 'id_route', 'id_trip', 'trip_direction', 'id_stop'] + \\\n",
      "    ['time_arrival', 'time_scheduled_arrival', 'count', 'count_boarding', 'count_exiting', 'time_departure', 'time_scheduled_departure', 'stop_distance']\n",
      "    ].to_csv('data/common_format/zurich.csv', index=False)"
     ],
     "language": "python",
     "metadata": {},
     "outputs": [],
     "prompt_number": 45
    },
    {
     "cell_type": "markdown",
     "metadata": {},
     "source": [
      "# Stops"
     ]
    },
    {
     "cell_type": "code",
     "collapsed": false,
     "input": [
      "stops =pd.read_csv('data/zurich/schedule-vs-arrival.csv', \n",
      "stops =pd.read_csv('data/zurich/schedule-vs-arrival.csv', \n",
      "    usecols=stops_columns.keys(),\n",
      "    sep=';',\n",
      "    skiprows=[1], \n",
      ").rename(columns=stops_columns)\n",
      "\n",
      "stops['longitude'] *= 1e-5\n",
      "stops['latitude'] *= 1e-6\n",
      "\n",
      "stops"
     ],
     "language": "python",
     "metadata": {},
     "outputs": [
      {
       "output_type": "pyout",
       "prompt_number": 20,
       "text": [
        "<class 'pandas.core.frame.DataFrame'>\n",
        "Int64Index: 1477877 entries, 0 to 1477876\n",
        "Data columns:\n",
        "id_route             1477877  non-null values\n",
        "number_route         1477877  non-null values\n",
        "name_route           1477877  non-null values\n",
        "direction_inbound    1477877  non-null values\n",
        "stop_seq             1477877  non-null values\n",
        "id_stop              1477877  non-null values\n",
        "number_stop          1477877  non-null values\n",
        "name_stop            1477877  non-null values\n",
        "longitude            1391237  non-null values\n",
        "latitude             1391237  non-null values\n",
        "dtypes: float64(2), int64(6), object(2)"
       ]
      }
     ],
     "prompt_number": 13
    },
    {
     "cell_type": "code",
     "collapsed": false,
     "input": [
      "store['stops'] = stops"
     ],
     "language": "python",
     "metadata": {},
     "outputs": [],
     "prompt_number": "*"
    },
    {
     "cell_type": "markdown",
     "metadata": {},
     "source": [
      "# Topojson"
     ]
    },
    {
     "cell_type": "markdown",
     "metadata": {},
     "source": [
      "### stops"
     ]
    },
    {
     "cell_type": "code",
     "collapsed": false,
     "input": [
      "with open('data/zurich/topojson/stops.json', 'r') as f: \n",
      "    stop_data = json.loads(f.read())"
     ],
     "language": "python",
     "metadata": {},
     "outputs": [],
     "prompt_number": 10
    },
    {
     "cell_type": "code",
     "collapsed": false,
     "input": [
      "replacements = {\n",
      "    'stopId': 'id_stop',\n",
      "    'stopName': 'name_stop',\n",
      "    'stopNumber': 'number_stop',\n",
      "    }\n",
      "stop_df = pd.DataFrame(map(lambda obj: obj['properties'], stop_data['objects']['stops']['geometries']))\n",
      "stop_df = stop_df.rename(columns=replacements)[replacements.values()]\n",
      "stop_df"
     ],
     "language": "python",
     "metadata": {},
     "outputs": [
      {
       "output_type": "pyout",
       "prompt_number": 11,
       "text": [
        "<class 'pandas.core.frame.DataFrame'>\n",
        "Int64Index: 1609 entries, 0 to 1608\n",
        "Data columns:\n",
        "id_stop        1609  non-null values\n",
        "number_stop    1609  non-null values\n",
        "name_stop      1609  non-null values\n",
        "dtypes: int64(2), object(1)"
       ]
      }
     ],
     "prompt_number": 11
    },
    {
     "cell_type": "code",
     "collapsed": false,
     "input": [
      "for i, obj in enumerate(stop_data['objects']['stops']['geometries']):\n",
      "    obj['properties'] = stop_df.ix[i].apply(utils.native_types).to_dict()\n",
      "\n",
      "with open('web/data/zurich/stops.json', 'w+') as f:\n",
      "    f.write(json.dumps(stop_data))"
     ],
     "language": "python",
     "metadata": {},
     "outputs": [],
     "prompt_number": 12
    },
    {
     "cell_type": "markdown",
     "metadata": {},
     "source": [
      "### routes"
     ]
    },
    {
     "cell_type": "code",
     "collapsed": false,
     "input": [
      "all_route_ids = pd.read_csv('data/common_format/zurich.csv').id_route.unique()\n",
      "print(len(all_route_ids))\n",
      "all_route_ids"
     ],
     "language": "python",
     "metadata": {},
     "outputs": [
      {
       "output_type": "stream",
       "stream": "stdout",
       "text": [
        "65\n"
       ]
      },
      {
       "output_type": "pyout",
       "prompt_number": 9,
       "text": [
        "array([  2,   3,   4,   5,   7,   8,   9,  10,  11,  12,  13,  14,  15,\n",
        "        31,  32,  33,  46,  61,  62,  64,  66,  67,  69,  72,  75,  76,\n",
        "        77,  78,  80,  89,  95, 161, 165, 184, 185, 303, 306, 311, 325,\n",
        "       743, 744, 747, 751, 753, 786, 912,  17,  29,  34,  70,  94, 304,\n",
        "       309, 323, 918, 919,   6,  35,  37, 301, 308, 910, 916,  38,  63])"
       ]
      }
     ],
     "prompt_number": 9
    },
    {
     "cell_type": "code",
     "collapsed": false,
     "input": [
      "with open('data/zurich/topojson/routes.json', 'r') as f: \n",
      "    route_data = json.loads(f.read())\n",
      "route_df = pd.DataFrame(map(\n",
      "    lambda obj: obj['properties'], route_data['objects']['routes']['geometries'])\n",
      "    )\n",
      "replacements = {\n",
      "    'ID': 'id_route',\n",
      "    'Length': 'length_route',\n",
      "}\n",
      "route_df = route_df.rename(columns=replacements)[replacements.values()]\n",
      "route_df['length_route'] = route_df.length_route.fillna(0)\n",
      "\n",
      "\n",
      "# filter to the unique routes in the passenger data\n",
      "route_df = route_df.ix[route_df.id_route.isin(all_route_ids)]\n",
      "\n",
      "# filter the json routes to only ones with valid id_route\n",
      "route_data['objects']['routes']['geometries'] = \\\n",
      "    [route_data['objects']['routes']['geometries'][i] for i in route_df.index]\n",
      "\n",
      "for i, obj in enumerate(route_data['objects']['routes']['geometries']):\n",
      "    obj['properties'] = route_df.reset_index().ix[i].apply(utils.native_types).to_dict()\n",
      "\n",
      "with open('web/data/zurich/routes.json', 'w+') as f:\n",
      "    f.write(json.dumps(route_data))"
     ],
     "language": "python",
     "metadata": {},
     "outputs": [],
     "prompt_number": 13
    }
   ],
   "metadata": {}
  }
 ]
}