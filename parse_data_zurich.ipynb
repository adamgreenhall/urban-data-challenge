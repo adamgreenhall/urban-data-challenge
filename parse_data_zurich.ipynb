{
 "metadata": {
  "name": "parse_data_zurich"
 },
 "nbformat": 3,
 "nbformat_minor": 0,
 "worksheets": [
  {
   "cells": [
    {
     "cell_type": "code",
     "collapsed": false,
     "input": [
      "import pandas as pd\n",
      "import json"
     ],
     "language": "python",
     "metadata": {},
     "outputs": [],
     "prompt_number": 5
    },
    {
     "cell_type": "code",
     "collapsed": false,
     "input": [
      "store = pd.HDFStore('data/zurich/data.hd5')"
     ],
     "language": "python",
     "metadata": {},
     "outputs": [],
     "prompt_number": 6
    },
    {
     "cell_type": "markdown",
     "metadata": {},
     "source": [
      "# Passenger counts"
     ]
    },
    {
     "cell_type": "code",
     "collapsed": false,
     "input": [
      "!head 'data/zurich/passenger-counts.csv'"
     ],
     "language": "python",
     "metadata": {},
     "outputs": [
      {
       "output_type": "stream",
       "stream": "stdout",
       "text": [
        "serviceDate,routeId,runId,tripStart,direction,stopSequenceNr,stopId,stopNameShort,stopName,vehicleTypeShort,vehicleType,vehicleNumber,passengersBoardingTrip,passengersAlightingTrip,passengersDifferenceTrip,passengersBoardingStop,passengersAlightingStop,passengerLoadStop\r\n",
        "20121001;\"2\";\"01\";21660;2;1;1357;\"KALK\";\"Z\ufffdrich, Kalkbreite\";\"COBRA\";\"VBZ Tram Cobra\";\"3026\";29;29;0;4;0;4\r\n",
        "20121001;\"2\";\"01\";21660;2;2;1579;\"LOCH\";\"Z\ufffdrich, Lochergut\";\"COBRA\";\"VBZ Tram Cobra\";\"3026\";29;29;0;4;0;8\r\n",
        "20121001;\"2\";\"01\";21660;2;3;3019;\"ZYPR\";\"Z\ufffdrich, Zypressenstrasse\";\"COBRA\";\"VBZ Tram Cobra\";\"3026\";29;29;0;2;0;10\r\n",
        "20121001;\"2\";\"01\";21660;2;4;48;\"ALBP\";\"Z\ufffdrich, Albisriederplatz\";\"COBRA\";\"VBZ Tram Cobra\";\"3026\";29;29;0;14;1;23\r\n",
        "20121001;\"2\";\"01\";21660;2;5;1548;\"LETG\";\"Z\ufffdrich, Letzigrund\";\"COBRA\";\"VBZ Tram Cobra\";\"3026\";29;29;0;0;3;20\r\n",
        "20121001;\"2\";\"01\";21660;2;6;883;\"FREI\";\"Z\ufffdrich, Freihofstrasse\";\"COBRA\";\"VBZ Tram Cobra\";\"3026\";29;29;0;1;0;21\r\n",
        "20121001;\"2\";\"01\";21660;2;7;1364;\"KAPP\";\"Z\ufffdrich, Kappeli\";\"COBRA\";\"VBZ Tram Cobra\";\"3026\";29;29;0;1;9;13\r\n",
        "20121001;\"2\";\"01\";21660;2;8;1026;\"GRIM\";\"Z\ufffdrich, Grimselstrasse\";\"COBRA\";\"VBZ Tram Cobra\";\"3026\";29;29;0;1;5;9\r\n",
        "20121001;\"2\";\"01\";21660;2;9;1570;\"LIND\";\"Z\ufffdrich, Lindenplatz\";\"COBRA\";\"VBZ Tram Cobra\";\"3026\";29;29;0;1;3;7\r\n"
       ]
      }
     ],
     "prompt_number": 10
    },
    {
     "cell_type": "code",
     "collapsed": false,
     "input": [
      "header_names = 'serviceDate,routeId,runId,tripStart,direction,stopSequenceNr,stopId,stopNameShort,stopName,vehicleTypeShort,vehicleType,vehicleNumber,passengersBoardingTrip,passengersAlightingTrip,passengersDifferenceTrip,passengersBoardingStop,passengersAlightingStop,passengerLoadStop'.split(',')"
     ],
     "language": "python",
     "metadata": {},
     "outputs": [],
     "prompt_number": 8
    },
    {
     "cell_type": "code",
     "collapsed": false,
     "input": [
      "pcounts = pd.read_csv('data/zurich/passenger-counts.csv', \n",
      "    # hack - ignore header with different delimiter than body\n",
      "    delimiter=';', skiprows=[0,1],\n",
      "    names=header_names,\n",
      "    # \n",
      "    usecols=[\n",
      "        'serviceDate',\n",
      "        'routeId',\n",
      "        'runId',\n",
      "        # 'tripStart', # per trip start time in seconds since midnight\n",
      "        'stopId',\n",
      "        # 'vehicleNumber',\n",
      "        'passengersBoardingStop',\n",
      "        'passengersAlightingStop',\n",
      "        'passengerLoadStop'],\n",
      "    parse_dates=['serviceDate'],\n",
      "    \n",
      ").rename(columns={\n",
      "        'serviceDate': 'date',\n",
      "        'routeId': 'id_route',\n",
      "        'runId': 'id_trip',\n",
      "        'stopId': 'id_stop',\n",
      "        'passengersBoardingStop': 'count_boarding',\n",
      "        'passengersAlightingStop': 'count_exiting',\n",
      "        'passengerLoadStop': 'count',\n",
      "})\n",
      "\n",
      "pcounts"
     ],
     "language": "python",
     "metadata": {},
     "outputs": [
      {
       "output_type": "pyout",
       "prompt_number": 9,
       "text": [
        "<class 'pandas.core.frame.DataFrame'>\n",
        "Int64Index: 172764 entries, 0 to 172763\n",
        "Data columns:\n",
        "date              172764  non-null values\n",
        "id_route          172764  non-null values\n",
        "id_trip           172764  non-null values\n",
        "id_stop           172764  non-null values\n",
        "count_boarding    172764  non-null values\n",
        "count_exiting     172764  non-null values\n",
        "count             172764  non-null values\n",
        "dtypes: int64(6), object(1)"
       ]
      }
     ],
     "prompt_number": 9
    },
    {
     "cell_type": "code",
     "collapsed": false,
     "input": [
      "store['passenger_counts'] = pcounts"
     ],
     "language": "python",
     "metadata": {},
     "outputs": [],
     "prompt_number": 13
    },
    {
     "cell_type": "markdown",
     "metadata": {},
     "source": [
      "# Schedule"
     ]
    },
    {
     "cell_type": "code",
     "collapsed": false,
     "input": [
      "!head -n5 data/zurich/schedule-vs-arrival.csv"
     ],
     "language": "python",
     "metadata": {},
     "outputs": [
      {
       "output_type": "stream",
       "stream": "stdout",
       "text": [
        "\ufeffeventId;serviceDate;date;tripId;tripStart;routeId;routeNumber;routeNameShort;routeName;routeVLD;runNumber;direction;stopSequenceNr;stopId;stopNumber;stopNameShort;stopName;arrivalScheduled;departureScheduled;arrivalActual;departureActual;mileage;vehicleId;vehicleTechnicalId;vehicleNumber;vehiclePlate;vehicleVLD;patternId;patternNumber;patternNameShort;patternName;patternType;patternVld;blockId;blockNumber;blockVld;daytyp_id;daytyp_number;daytyp_short;daytyp_long;daytyp_vld;branchId;branchNumber;branchNameShort;branchName;branchVld;longitudeScheduled;latitudeScheduled;longitudeActual;latitudeActual;directionScheduled;directionActual\r\n",
        "206842807;2012-10-01 00:00:00.000;2012-10-01 00:00:00.000;165248;21600;305;2;2;2;531;1;1;1;2251;6030;DEP4;Z\u00fcrich, Depot 4 Elisabethenstr;21600;21600;21611;21611;329190284;834;3026ZH;3026;Video;1457;4408;39;39;Ausfahrt;2;7705;32302;10001;17449;2590;6002;002-14N2;Neue Laubegg und ZW-Ausfahrt..;1383;15;1;VBZ01;Tram;15;30677876;170544019;30675859;170544908;289;330\r\n",
        "206851248;2012-10-01 00:00:00.000;2012-10-01 00:00:00.000;165249;21660;305;2;2;2;531;1;2;1;1906;1357;KALK;Z\u00fcrich, Kalkbreite;21660;21660;21736;21736;329190500;834;3026ZH;3026;Video;1457;4409;40;40;F\u00fcr Ausfahrt;1;7706;32302;10001;17449;2590;6002;002-14N2;Neue Laubegg und ZW-Ausfahrt..;1383;15;1;VBZ01;Tram;15;30674684;170548777;30674000;170548945;292;289\r\n",
        "206849801;2012-10-01 00:00:00.000;2012-10-01 00:00:00.000;165249;21660;305;2;2;2;531;1;2;2;2248;1579;LOCH;Z\u00fcrich, Lochergut;21702;21732;21784;21798;329190755;834;3026ZH;3026;Video;1457;4409;40;40;F\u00fcr Ausfahrt;1;7706;32302;10001;17449;2590;6002;002-14N2;Neue Laubegg und ZW-Ausfahrt..;1383;15;1;VBZ01;Tram;15;30661636;170551845;30661969;170552053;300;289\r\n",
        "206851234;2012-10-01 00:00:00.000;2012-10-01 00:00:00.000;165249;21660;305;2;2;2;531;1;2;3;2250;3019;ZYPR;Z\u00fcrich, Zypressenstrasse;21768;21792;21840;21850;329191064;834;3026ZH;3026;Video;1457;4409;40;40;F\u00fcr Ausfahrt;1;7706;32302;10001;17449;2590;6002;002-14N2;Neue Laubegg und ZW-Ausfahrt..;1383;15;1;VBZ01;Tram;15;30648863;170556692;30649250;170556638;303;305\r\n"
       ]
      }
     ],
     "prompt_number": 11
    },
    {
     "cell_type": "code",
     "collapsed": false,
     "input": [
      "schedule_columns = {\n",
      " 'serviceDate': 'date',\n",
      " 'tripId': 'id_trip',\n",
      " 'routeId': 'id_route',\n",
      " 'runNumber': 'id_trip',\n",
      " 'stopId': 'id_stop', \n",
      " 'direction': 'direction_inbound',\n",
      " 'arrivalScheduled': 'time_scheduled_arrival',\n",
      " 'departureScheduled': 'time_scheduled_departure',\n",
      " 'arrivalActual': 'time_arrival',\n",
      " 'departureActual': 'time_departure',\n",
      "}"
     ],
     "language": "python",
     "metadata": {},
     "outputs": [],
     "prompt_number": 12
    },
    {
     "cell_type": "code",
     "collapsed": false,
     "input": [
      "schedule = pd.read_csv('data/zurich/schedule-vs-arrival.csv',\n",
      "    delimiter=';', \n",
      "    skiprows=[1], \n",
      "    usecols=schedule_columns.keys(),\n",
      "    parse_dates=['serviceDate'],\n",
      ").rename(columns=schedule_columns)\n",
      "\n",
      "# make this either 0 or 1, instead of 1 or 2\n",
      "schedule['direction_inbound'] += -1\n",
      "\n",
      "# parse the times (seconds since midnight)\n",
      "time_cols = [\n",
      "    'time_scheduled_arrival',\n",
      "    'time_scheduled_departure',\n",
      "    'time_arrival',\n",
      "    'time_departure',\n",
      "    ]\n",
      "\n",
      "for col in time_cols:\n",
      "    schedule[col] = schedule.date.apply(lambda t: t.date()) + schedule[col].apply(lambda s: pd.DateOffset(seconds=int(s)))\n",
      "\n",
      "schedule"
     ],
     "language": "python",
     "metadata": {},
     "outputs": [
      {
       "output_type": "pyout",
       "prompt_number": 13,
       "text": [
        "<class 'pandas.core.frame.DataFrame'>\n",
        "Int64Index: 1477877 entries, 0 to 1477876\n",
        "Data columns:\n",
        "date                        1477877  non-null values\n",
        "id_trip                     1477877  non-null values\n",
        "id_route                    1477877  non-null values\n",
        "id_trip                     1477877  non-null values\n",
        "direction_inbound           1477877  non-null values\n",
        "id_stop                     1477877  non-null values\n",
        "time_scheduled_arrival      1477877  non-null values\n",
        "time_scheduled_departure    1477877  non-null values\n",
        "time_arrival                1477877  non-null values\n",
        "time_departure              1477877  non-null values\n",
        "dtypes: datetime64[ns](1), int64(5), object(4)"
       ]
      }
     ],
     "prompt_number": 13
    },
    {
     "cell_type": "code",
     "collapsed": false,
     "input": [
      "store['schedule'] = schedule"
     ],
     "language": "python",
     "metadata": {},
     "outputs": [
      {
       "output_type": "stream",
       "stream": "stderr",
       "text": [
        "/home/adam/research/code/anaconda1.3/lib/python2.7/site-packages/pandas/io/pytables.py:1623: PerformanceWarning: \n",
        "your performance may suffer as PyTables swill pickle object types that it cannot map\n",
        "directly to c-types [inferred_type->mixed,key->block2_values]\n",
        "\n",
        "  warnings.warn(ws, PerformanceWarning)\n"
       ]
      }
     ],
     "prompt_number": 14
    },
    {
     "cell_type": "markdown",
     "metadata": {},
     "source": [
      "# Stops"
     ]
    },
    {
     "cell_type": "code",
     "collapsed": false,
     "input": [
      "stops_columns = {\n",
      " 'routeId': 'id_route',\n",
      " 'stopId': 'id_stop',\n",
      " 'routeNumber': 'number_route',\n",
      " 'routeName': 'name_route',\n",
      " 'direction': 'direction_inbound',\n",
      " 'stopSequenceNr': 'stop_seq',\n",
      " 'stopNumber': 'number_stop',\n",
      " 'stopName': 'name_stop',\n",
      " 'longitudeActual': 'longitude',\n",
      " 'latitudeActual': 'latitude',\n",
      "}"
     ],
     "language": "python",
     "metadata": {},
     "outputs": [],
     "prompt_number": 15
    },
    {
     "cell_type": "code",
     "collapsed": false,
     "input": [
      "!head 'data/zurich/schedule-vs-arrival.csv'"
     ],
     "language": "python",
     "metadata": {},
     "outputs": [
      {
       "output_type": "stream",
       "stream": "stdout",
       "text": [
        "\ufeffeventId;serviceDate;date;tripId;tripStart;routeId;routeNumber;routeNameShort;routeName;routeVLD;runNumber;direction;stopSequenceNr;stopId;stopNumber;stopNameShort;stopName;arrivalScheduled;departureScheduled;arrivalActual;departureActual;mileage;vehicleId;vehicleTechnicalId;vehicleNumber;vehiclePlate;vehicleVLD;patternId;patternNumber;patternNameShort;patternName;patternType;patternVld;blockId;blockNumber;blockVld;daytyp_id;daytyp_number;daytyp_short;daytyp_long;daytyp_vld;branchId;branchNumber;branchNameShort;branchName;branchVld;longitudeScheduled;latitudeScheduled;longitudeActual;latitudeActual;directionScheduled;directionActual\r\n",
        "206842807;2012-10-01 00:00:00.000;2012-10-01 00:00:00.000;165248;21600;305;2;2;2;531;1;1;1;2251;6030;DEP4;Z\u00fcrich, Depot 4 Elisabethenstr;21600;21600;21611;21611;329190284;834;3026ZH;3026;Video;1457;4408;39;39;Ausfahrt;2;7705;32302;10001;17449;2590;6002;002-14N2;Neue Laubegg und ZW-Ausfahrt..;1383;15;1;VBZ01;Tram;15;30677876;170544019;30675859;170544908;289;330\r\n",
        "206851248;2012-10-01 00:00:00.000;2012-10-01 00:00:00.000;165249;21660;305;2;2;2;531;1;2;1;1906;1357;KALK;Z\u00fcrich, Kalkbreite;21660;21660;21736;21736;329190500;834;3026ZH;3026;Video;1457;4409;40;40;F\u00fcr Ausfahrt;1;7706;32302;10001;17449;2590;6002;002-14N2;Neue Laubegg und ZW-Ausfahrt..;1383;15;1;VBZ01;Tram;15;30674684;170548777;30674000;170548945;292;289\r\n",
        "206849801;2012-10-01 00:00:00.000;2012-10-01 00:00:00.000;165249;21660;305;2;2;2;531;1;2;2;2248;1579;LOCH;Z\u00fcrich, Lochergut;21702;21732;21784;21798;329190755;834;3026ZH;3026;Video;1457;4409;40;40;F\u00fcr Ausfahrt;1;7706;32302;10001;17449;2590;6002;002-14N2;Neue Laubegg und ZW-Ausfahrt..;1383;15;1;VBZ01;Tram;15;30661636;170551845;30661969;170552053;300;289\r\n",
        "206851234;2012-10-01 00:00:00.000;2012-10-01 00:00:00.000;165249;21660;305;2;2;2;531;1;2;3;2250;3019;ZYPR;Z\u00fcrich, Zypressenstrasse;21768;21792;21840;21850;329191064;834;3026ZH;3026;Video;1457;4409;40;40;F\u00fcr Ausfahrt;1;7706;32302;10001;17449;2590;6002;002-14N2;Neue Laubegg und ZW-Ausfahrt..;1383;15;1;VBZ01;Tram;15;30648863;170556692;30649250;170556638;303;305\r\n",
        "206842821;2012-10-01 00:00:00.000;2012-10-01 00:00:00.000;165249;21660;305;2;2;2;531;1;2;4;1535;48;ALBP;Z\u00fcrich, Albisriederplatz;21846;21888;21904;21923;329191388;834;3026ZH;3026;Video;1457;4409;40;40;F\u00fcr Ausfahrt;1;7706;32302;10001;17449;2590;6002;002-14N2;Neue Laubegg und ZW-Ausfahrt..;1383;15;1;VBZ01;Tram;15;30636340;170562184;30636435;170562159;308;296\r\n",
        "206849832;2012-10-01 00:00:00.000;2012-10-01 00:00:00.000;165249;21660;305;2;2;2;531;1;2;5;2245;1548;LETG;Z\u00fcrich, Letzigrund;21948;21966;21991;22002;329191987;834;3026ZH;3026;Video;1457;4409;40;40;F\u00fcr Ausfahrt;1;7706;32302;10001;17449;2590;6002;002-14N2;Neue Laubegg und ZW-Ausfahrt..;1383;15;1;VBZ01;Tram;15;30612617;170572669;30612695;170572806;303;304\r\n",
        "206853613;2012-10-01 00:00:00.000;2012-10-01 00:00:00.000;165249;21660;305;2;2;2;531;1;2;6;2253;883;FREI;Z\u00fcrich, Freihofstrasse;22014;22032;22056;22067;329192363;834;3026ZH;3026;Video;1457;4409;40;40;F\u00fcr Ausfahrt;1;7706;32302;10001;17449;2590;6002;002-14N2;Neue Laubegg und ZW-Ausfahrt..;1383;15;1;VBZ01;Tram;15;30597788;170579767;30598108;170579731;301;305\r\n",
        "206848602;2012-10-01 00:00:00.000;2012-10-01 00:00:00.000;165249;21660;305;2;2;2;531;1;2;7;2244;1364;KAPP;Z\u00fcrich, Kappeli;22080;22098;22132;22146;329192796;834;3026ZH;3026;Video;1457;4409;40;40;F\u00fcr Ausfahrt;1;7706;32302;10001;17449;2590;6002;002-14N2;Neue Laubegg und ZW-Ausfahrt..;1383;15;1;VBZ01;Tram;15;30580810;170586755;30580766;170586905;300;296\r\n",
        "206847079;2012-10-01 00:00:00.000;2012-10-01 00:00:00.000;165249;21660;305;2;2;2;531;1;2;8;2770;1026;GRIM;Z\u00fcrich, Grimselstrasse;22164;22182;22214;22225;329193224;834;3026ZH;3026;Video;1457;4409;40;40;F\u00fcr Ausfahrt;1;7706;32302;10001;17449;2590;6002;002-14N2;Neue Laubegg und ZW-Ausfahrt..;1383;15;1;VBZ01;Tram;15;30562966;170593362;30563117;170593482;287;283\r\n"
       ]
      }
     ],
     "prompt_number": 18
    },
    {
     "cell_type": "code",
     "collapsed": false,
     "input": [
      "stops =pd.read_csv('data/zurich/schedule-vs-arrival.csv', \n",
      "    usecols=stops_columns.keys(),\n",
      "    sep=';',\n",
      "    skiprows=[1], \n",
      ").rename(columns=stops_columns)\n",
      "\n",
      "stops['longitude'] *= 1e-5\n",
      "stops['latitude'] *= 1e-6\n",
      "\n",
      "stops"
     ],
     "language": "python",
     "metadata": {},
     "outputs": [
      {
       "output_type": "pyout",
       "prompt_number": 20,
       "text": [
        "<class 'pandas.core.frame.DataFrame'>\n",
        "Int64Index: 1477877 entries, 0 to 1477876\n",
        "Data columns:\n",
        "id_route             1477877  non-null values\n",
        "number_route         1477877  non-null values\n",
        "name_route           1477877  non-null values\n",
        "direction_inbound    1477877  non-null values\n",
        "stop_seq             1477877  non-null values\n",
        "id_stop              1477877  non-null values\n",
        "number_stop          1477877  non-null values\n",
        "name_stop            1477877  non-null values\n",
        "longitude            1391237  non-null values\n",
        "latitude             1391237  non-null values\n",
        "dtypes: float64(2), int64(6), object(2)"
       ]
      }
     ],
     "prompt_number": 13
    },
    {
     "cell_type": "code",
     "collapsed": false,
     "input": [
      "store['stops'] = stops"
     ],
     "language": "python",
     "metadata": {},
     "outputs": [],
     "prompt_number": "*"
    },
    {
     "cell_type": "markdown",
     "metadata": {},
     "source": [
      "# Topojson"
     ]
    },
    {
     "cell_type": "code",
     "collapsed": false,
     "input": [
      "with open('data/zurich/topojson/stops.json', 'r') as f: \n",
      "    stop_data = json.loads(f.read())"
     ],
     "language": "python",
     "metadata": {},
     "outputs": []
    },
    {
     "cell_type": "code",
     "collapsed": false,
     "input": [
      "stop_data['objects']['stops']['geometries'][0]['properties']"
     ],
     "language": "python",
     "metadata": {},
     "outputs": []
    },
    {
     "cell_type": "code",
     "collapsed": false,
     "input": [
      "store"
     ],
     "language": "python",
     "metadata": {},
     "outputs": [
      {
       "output_type": "stream",
       "stream": "stderr",
       "text": [
        "/home/adam/research/code/anaconda1.3/lib/python2.7/site-packages/pandas/io/pytables.py:1623: PerformanceWarning: \n",
        "your performance may suffer as PyTables swill pickle object types that it cannot map\n",
        "directly to c-types [inferred_type->mixed-integer,key->block2_values]\n",
        "\n",
        "  warnings.warn(ws, PerformanceWarning)\n"
       ]
      }
     ],
     "prompt_number": 21
    },
    {
     "cell_type": "code",
     "collapsed": false,
     "input": [
      "replacements = {\n",
      "    'stopId': 'id_stop',\n",
      "    'stopName': 'name_stop',\n",
      "    'stopNumber': 'number_stop',\n",
      "    }\n",
      "for obj in stop_data['objects']['stops']['geometries']:\n",
      "    properties = pd.Series(obj['properties']).rename(replacements)[replacements.values()]\n",
      "    route_ids = stops[stops.id_stop == properties['id_stop']].id_route\n",
      "    if len(route_ids) == 1:\n",
      "        properties = properties.set_value('name_route', route_ids.values[0])\n",
      "    \n",
      "    obj['properties'] = properties.to_dict()\n",
      "\n",
      "with open('web/geneva/stops.json', 'w+') as f:\n",
      "    f.write(json.dumps(stop_data))    "
     ],
     "language": "python",
     "metadata": {},
     "outputs": [],
     "prompt_number": 23
    },
    {
     "cell_type": "code",
     "collapsed": false,
     "input": [],
     "language": "python",
     "metadata": {},
     "outputs": []
    }
   ],
   "metadata": {}
  }
 ]
}
