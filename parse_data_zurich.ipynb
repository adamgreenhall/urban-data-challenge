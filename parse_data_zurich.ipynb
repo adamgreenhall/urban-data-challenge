{
 "metadata": {
  "name": "parse_data_zurich"
 },
 "nbformat": 3,
 "nbformat_minor": 0,
 "worksheets": [
  {
   "cells": [
    {
     "cell_type": "code",
     "collapsed": false,
     "input": [
      "import pandas as pd"
     ],
     "language": "python",
     "metadata": {},
     "outputs": [],
     "prompt_number": 1
    },
    {
     "cell_type": "code",
     "collapsed": false,
     "input": [
      "store = pd.HDFStore('data/zurich/data.hd5')"
     ],
     "language": "python",
     "metadata": {},
     "outputs": [],
     "prompt_number": 2
    },
    {
     "cell_type": "markdown",
     "metadata": {},
     "source": [
      "# Passenger counts"
     ]
    },
    {
     "cell_type": "code",
     "collapsed": false,
     "input": [
      "!head 'data/zurich/passenger-counts.csv'"
     ],
     "language": "python",
     "metadata": {},
     "outputs": [
      {
       "output_type": "stream",
       "stream": "stdout",
       "text": [
        "serviceDate,routeId,runId,tripStart,direction,stopSequenceNr,stopId,stopNameShort,stopName,vehicleTypeShort,vehicleType,vehicleNumber,passengersBoardingTrip,passengersAlightingTrip,passengersDifferenceTrip,passengersBoardingStop,passengersAlightingStop,passengerLoadStop\r\n",
        "20121001;\"2\";\"01\";21660;2;1;1357;\"KALK\";\"Z\ufffdrich, Kalkbreite\";\"COBRA\";\"VBZ Tram Cobra\";\"3026\";29;29;0;4;0;4\r\n",
        "20121001;\"2\";\"01\";21660;2;2;1579;\"LOCH\";\"Z\ufffdrich, Lochergut\";\"COBRA\";\"VBZ Tram Cobra\";\"3026\";29;29;0;4;0;8\r\n",
        "20121001;\"2\";\"01\";21660;2;3;3019;\"ZYPR\";\"Z\ufffdrich, Zypressenstrasse\";\"COBRA\";\"VBZ Tram Cobra\";\"3026\";29;29;0;2;0;10\r\n",
        "20121001;\"2\";\"01\";21660;2;4;48;\"ALBP\";\"Z\ufffdrich, Albisriederplatz\";\"COBRA\";\"VBZ Tram Cobra\";\"3026\";29;29;0;14;1;23\r\n",
        "20121001;\"2\";\"01\";21660;2;5;1548;\"LETG\";\"Z\ufffdrich, Letzigrund\";\"COBRA\";\"VBZ Tram Cobra\";\"3026\";29;29;0;0;3;20\r\n",
        "20121001;\"2\";\"01\";21660;2;6;883;\"FREI\";\"Z\ufffdrich, Freihofstrasse\";\"COBRA\";\"VBZ Tram Cobra\";\"3026\";29;29;0;1;0;21\r\n",
        "20121001;\"2\";\"01\";21660;2;7;1364;\"KAPP\";\"Z\ufffdrich, Kappeli\";\"COBRA\";\"VBZ Tram Cobra\";\"3026\";29;29;0;1;9;13\r\n",
        "20121001;\"2\";\"01\";21660;2;8;1026;\"GRIM\";\"Z\ufffdrich, Grimselstrasse\";\"COBRA\";\"VBZ Tram Cobra\";\"3026\";29;29;0;1;5;9\r\n",
        "20121001;\"2\";\"01\";21660;2;9;1570;\"LIND\";\"Z\ufffdrich, Lindenplatz\";\"COBRA\";\"VBZ Tram Cobra\";\"3026\";29;29;0;1;3;7\r\n"
       ]
      }
     ],
     "prompt_number": 3
    },
    {
     "cell_type": "code",
     "collapsed": false,
     "input": [
      "header_names = 'serviceDate,routeId,runId,tripStart,direction,stopSequenceNr,stopId,stopNameShort,stopName,vehicleTypeShort,vehicleType,vehicleNumber,passengersBoardingTrip,passengersAlightingTrip,passengersDifferenceTrip,passengersBoardingStop,passengersAlightingStop,passengerLoadStop'.split(',')"
     ],
     "language": "python",
     "metadata": {},
     "outputs": []
    },
    {
     "cell_type": "code",
     "collapsed": false,
     "input": [
      "pcounts = pd.read_csv('data/zurich/passenger-counts.csv', \n",
      "    # hack - ignore header with different delimiter than body\n",
      "    delimiter=';', skiprows=[0,1],\n",
      "    names=header_names,\n",
      "    # \n",
      "    usecols=[\n",
      "        'serviceDate',\n",
      "        'routeId',\n",
      "        'runId',\n",
      "        # 'tripStart', # per trip start time in seconds since midnight\n",
      "        'stopId',\n",
      "        # 'vehicleNumber',\n",
      "        'passengersBoardingStop',\n",
      "        'passengersAlightingStop',\n",
      "        'passengerLoadStop'],\n",
      "    parse_dates=['serviceDate'],\n",
      "    \n",
      ").rename(columns={\n",
      "        'serviceDate': 'date',\n",
      "        'routeId': 'id_route',\n",
      "        'runId': 'id_trip',\n",
      "        'stopId': 'id_stop',\n",
      "        'passengersBoardingStop': 'count_boarding',\n",
      "        'passengersAlightingStop': 'count_exiting',\n",
      "        'passengerLoadStop': 'count',\n",
      "})\n",
      "\n",
      "pcounts"
     ],
     "language": "python",
     "metadata": {},
     "outputs": [
      {
       "output_type": "pyout",
       "prompt_number": 4,
       "text": [
        "<class 'pandas.core.frame.DataFrame'>\n",
        "Int64Index: 172764 entries, 0 to 172763\n",
        "Data columns:\n",
        "date              172764  non-null values\n",
        "id_route          172764  non-null values\n",
        "id_trip           172764  non-null values\n",
        "id_stop           172764  non-null values\n",
        "count_boarding    172764  non-null values\n",
        "count_exiting     172764  non-null values\n",
        "count             172764  non-null values\n",
        "dtypes: datetime64[ns](1), int64(6)"
       ]
      }
     ],
     "prompt_number": 4
    },
    {
     "cell_type": "code",
     "collapsed": false,
     "input": [
      "store['passenger_counts'] = pcounts"
     ],
     "language": "python",
     "metadata": {},
     "outputs": [],
     "prompt_number": 5
    },
    {
     "cell_type": "markdown",
     "metadata": {},
     "source": [
      "# Schedule"
     ]
    },
    {
     "cell_type": "code",
     "collapsed": false,
     "input": [
      "!head -n5 data/zurich/schedule-vs-arrival.csv"
     ],
     "language": "python",
     "metadata": {},
     "outputs": []
    },
    {
     "cell_type": "code",
     "collapsed": false,
     "input": [
      "schedule_columns = {\n",
      " 'serviceDate': 'date',\n",
      " 'tripId': 'id_trip',\n",
      " 'routeId': 'id_route',\n",
      " 'runNumber': 'id_trip',\n",
      " 'stopId': 'id_stop', \n",
      " 'direction': 'direction_inbound',\n",
      " 'arrivalScheduled': 'time_scheduled_arrival',\n",
      " 'departureScheduled': 'time_scheduled_departure',\n",
      " 'arrivalActual': 'time_arrival',\n",
      " 'departureActual': 'time_departure',\n",
      "}"
     ],
     "language": "python",
     "metadata": {},
     "outputs": [],
     "prompt_number": 18
    },
    {
     "cell_type": "code",
     "collapsed": false,
     "input": [
      "schedule = pd.read_csv('data/zurich/schedule-vs-arrival.csv',\n",
      "    delimiter=';', \n",
      "    skiprows=[1], \n",
      "    usecols=schedule_columns.keys(),\n",
      "    parse_dates=['serviceDate'],\n",
      ").rename(columns=schedule_columns)\n",
      "\n",
      "# make this either 0 or 1, instead of 1 or 2\n",
      "schedule['direction_inbound'] += -1\n",
      "\n",
      "# parse the times (seconds since midnight)\n",
      "time_cols = [\n",
      "    'time_scheduled_arrival',\n",
      "    'time_scheduled_departure',\n",
      "    'time_arrival',\n",
      "    'time_departure',\n",
      "    ]\n",
      "\n",
      "for col in time_cols:\n",
      "    schedule[col] = schedule.date.apply(lambda t: t.date()) + schedule[col].apply(lambda s: pd.DateOffset(seconds=int(s)))\n",
      "\n",
      "schedule"
     ],
     "language": "python",
     "metadata": {},
     "outputs": [
      {
       "output_type": "pyout",
       "prompt_number": 44,
       "text": [
        "<class 'pandas.core.frame.DataFrame'>\n",
        "Int64Index: 1477877 entries, 0 to 1477876\n",
        "Data columns:\n",
        "date                        1477877  non-null values\n",
        "id_trip                     1477877  non-null values\n",
        "id_route                    1477877  non-null values\n",
        "id_trip                     1477877  non-null values\n",
        "direction_inbound           1477877  non-null values\n",
        "id_stop                     1477877  non-null values\n",
        "time_scheduled_arrival      1477877  non-null values\n",
        "time_scheduled_departure    1477877  non-null values\n",
        "time_arrival                1477877  non-null values\n",
        "time_departure              1477877  non-null values\n",
        "dtypes: datetime64[ns](1), int64(5), object(4)"
       ]
      }
     ],
     "prompt_number": 44
    },
    {
     "cell_type": "code",
     "collapsed": false,
     "input": [
      "store['schedule'] = schedule"
     ],
     "language": "python",
     "metadata": {},
     "outputs": [],
     "prompt_number": 36
    },
    {
     "cell_type": "markdown",
     "metadata": {},
     "source": [
      "# Stops"
     ]
    },
    {
     "cell_type": "code",
     "collapsed": false,
     "input": [
      "stops_columns = {\n",
      " 'routeId': 'id_route',\n",
      " 'stopId': 'id_stop',\n",
      " 'routeNumber': 'number_route',\n",
      " 'routeName': 'name_route',\n",
      " 'direction': 'direction_inbound',\n",
      " 'stopSequenceNr': 'stop_seq',\n",
      " 'stopNumber': 'number_stop',\n",
      " 'stopName': 'name_stop',\n",
      " 'longitudeActual': 'longitude',\n",
      " 'latitudeActual': 'latitude',\n",
      "}"
     ],
     "language": "python",
     "metadata": {},
     "outputs": [],
     "prompt_number": 50
    },
    {
     "cell_type": "code",
     "collapsed": false,
     "input": [
      "stops =pd.read_csv('data/zurich/schedule-vs-arrival.excerpt.csv',\n",
      "    usecols=stops_columns,\n",
      "    skiprows=[1], \n",
      ").rename(columns=stops_columns)\n",
      "\n",
      "stops['longitude'] *= 1e-5\n",
      "stops['latitude'] *= 1e-6\n",
      "\n",
      "stops"
     ],
     "language": "python",
     "metadata": {},
     "outputs": [
      {
       "html": [
        "<div style=\"max-height:1000px;max-width:1500px;overflow:auto;\">\n",
        "<table border=\"1\" class=\"dataframe\">\n",
        "  <thead>\n",
        "    <tr style=\"text-align: right;\">\n",
        "      <th></th>\n",
        "      <th>id_route</th>\n",
        "      <th>number_route</th>\n",
        "      <th>name_route</th>\n",
        "      <th>direction_inbound</th>\n",
        "      <th>stop_seq</th>\n",
        "      <th>id_stop</th>\n",
        "      <th>number_stop</th>\n",
        "      <th>name_stop</th>\n",
        "      <th>longitude</th>\n",
        "      <th>latitude</th>\n",
        "    </tr>\n",
        "  </thead>\n",
        "  <tbody>\n",
        "    <tr>\n",
        "      <th>0</th>\n",
        "      <td> 305</td>\n",
        "      <td> 2</td>\n",
        "      <td> 2</td>\n",
        "      <td> 2</td>\n",
        "      <td>  2</td>\n",
        "      <td> 2248</td>\n",
        "      <td> 1579</td>\n",
        "      <td>        Z\ufffdrich, Lochergut</td>\n",
        "      <td> 306.61969</td>\n",
        "      <td> 170.552053</td>\n",
        "    </tr>\n",
        "    <tr>\n",
        "      <th>1</th>\n",
        "      <td> 305</td>\n",
        "      <td> 2</td>\n",
        "      <td> 2</td>\n",
        "      <td> 2</td>\n",
        "      <td>  3</td>\n",
        "      <td> 2250</td>\n",
        "      <td> 3019</td>\n",
        "      <td> Z\ufffdrich, Zypressenstrasse</td>\n",
        "      <td> 306.49250</td>\n",
        "      <td> 170.556638</td>\n",
        "    </tr>\n",
        "    <tr>\n",
        "      <th>2</th>\n",
        "      <td> 305</td>\n",
        "      <td> 2</td>\n",
        "      <td> 2</td>\n",
        "      <td> 2</td>\n",
        "      <td>  4</td>\n",
        "      <td> 1535</td>\n",
        "      <td>   48</td>\n",
        "      <td> Z\ufffdrich, Albisriederplatz</td>\n",
        "      <td> 306.36435</td>\n",
        "      <td> 170.562159</td>\n",
        "    </tr>\n",
        "    <tr>\n",
        "      <th>3</th>\n",
        "      <td> 305</td>\n",
        "      <td> 2</td>\n",
        "      <td> 2</td>\n",
        "      <td> 2</td>\n",
        "      <td>  5</td>\n",
        "      <td> 2245</td>\n",
        "      <td> 1548</td>\n",
        "      <td>       Z\ufffdrich, Letzigrund</td>\n",
        "      <td> 306.12695</td>\n",
        "      <td> 170.572806</td>\n",
        "    </tr>\n",
        "    <tr>\n",
        "      <th>4</th>\n",
        "      <td> 305</td>\n",
        "      <td> 2</td>\n",
        "      <td> 2</td>\n",
        "      <td> 2</td>\n",
        "      <td>  6</td>\n",
        "      <td> 2253</td>\n",
        "      <td>  883</td>\n",
        "      <td>   Z\ufffdrich, Freihofstrasse</td>\n",
        "      <td> 305.98108</td>\n",
        "      <td> 170.579731</td>\n",
        "    </tr>\n",
        "    <tr>\n",
        "      <th>5</th>\n",
        "      <td> 305</td>\n",
        "      <td> 2</td>\n",
        "      <td> 2</td>\n",
        "      <td> 2</td>\n",
        "      <td>  7</td>\n",
        "      <td> 2244</td>\n",
        "      <td> 1364</td>\n",
        "      <td>          Z\ufffdrich, Kappeli</td>\n",
        "      <td> 305.80766</td>\n",
        "      <td> 170.586905</td>\n",
        "    </tr>\n",
        "    <tr>\n",
        "      <th>6</th>\n",
        "      <td> 305</td>\n",
        "      <td> 2</td>\n",
        "      <td> 2</td>\n",
        "      <td> 2</td>\n",
        "      <td>  8</td>\n",
        "      <td> 2770</td>\n",
        "      <td> 1026</td>\n",
        "      <td>   Z\ufffdrich, Grimselstrasse</td>\n",
        "      <td> 305.63117</td>\n",
        "      <td> 170.593482</td>\n",
        "    </tr>\n",
        "    <tr>\n",
        "      <th>7</th>\n",
        "      <td> 305</td>\n",
        "      <td> 2</td>\n",
        "      <td> 2</td>\n",
        "      <td> 2</td>\n",
        "      <td>  9</td>\n",
        "      <td> 2535</td>\n",
        "      <td> 1570</td>\n",
        "      <td>      Z\ufffdrich, Lindenplatz</td>\n",
        "      <td> 305.49002</td>\n",
        "      <td> 170.596594</td>\n",
        "    </tr>\n",
        "    <tr>\n",
        "      <th>8</th>\n",
        "      <td> 305</td>\n",
        "      <td> 2</td>\n",
        "      <td> 2</td>\n",
        "      <td> 2</td>\n",
        "      <td> 10</td>\n",
        "      <td> 2818</td>\n",
        "      <td>  137</td>\n",
        "      <td>  Z\ufffdrich, Bachmattstrasse</td>\n",
        "      <td> 305.37391</td>\n",
        "      <td> 170.601286</td>\n",
        "    </tr>\n",
        "    <tr>\n",
        "      <th>9</th>\n",
        "      <td> 305</td>\n",
        "      <td> 2</td>\n",
        "      <td> 2</td>\n",
        "      <td> 2</td>\n",
        "      <td> 11</td>\n",
        "      <td> 1310</td>\n",
        "      <td>  821</td>\n",
        "      <td>          Z\ufffdrich, Farbhof</td>\n",
        "      <td> 305.24422</td>\n",
        "      <td> 170.606720</td>\n",
        "    </tr>\n",
        "  </tbody>\n",
        "</table>\n",
        "</div>"
       ],
       "output_type": "pyout",
       "prompt_number": 53,
       "text": [
        "   id_route  number_route  name_route  direction_inbound  stop_seq  id_stop  \\\n",
        "0       305             2           2                  2         2     2248   \n",
        "1       305             2           2                  2         3     2250   \n",
        "2       305             2           2                  2         4     1535   \n",
        "3       305             2           2                  2         5     2245   \n",
        "4       305             2           2                  2         6     2253   \n",
        "5       305             2           2                  2         7     2244   \n",
        "6       305             2           2                  2         8     2770   \n",
        "7       305             2           2                  2         9     2535   \n",
        "8       305             2           2                  2        10     2818   \n",
        "9       305             2           2                  2        11     1310   \n",
        "\n",
        "   number_stop                 name_stop  longitude    latitude  \n",
        "0         1579         Z\ufffdrich, Lochergut  306.61969  170.552053  \n",
        "1         3019  Z\ufffdrich, Zypressenstrasse  306.49250  170.556638  \n",
        "2           48  Z\ufffdrich, Albisriederplatz  306.36435  170.562159  \n",
        "3         1548        Z\ufffdrich, Letzigrund  306.12695  170.572806  \n",
        "4          883    Z\ufffdrich, Freihofstrasse  305.98108  170.579731  \n",
        "5         1364           Z\ufffdrich, Kappeli  305.80766  170.586905  \n",
        "6         1026    Z\ufffdrich, Grimselstrasse  305.63117  170.593482  \n",
        "7         1570       Z\ufffdrich, Lindenplatz  305.49002  170.596594  \n",
        "8          137   Z\ufffdrich, Bachmattstrasse  305.37391  170.601286  \n",
        "9          821           Z\ufffdrich, Farbhof  305.24422  170.606720  "
       ]
      }
     ],
     "prompt_number": 53
    },
    {
     "cell_type": "code",
     "collapsed": false,
     "input": [],
     "language": "python",
     "metadata": {},
     "outputs": []
    },
    {
     "cell_type": "code",
     "collapsed": false,
     "input": [
      "store['stops'] = stops"
     ],
     "language": "python",
     "metadata": {},
     "outputs": []
    },
    {
     "cell_type": "code",
     "collapsed": false,
     "input": [
      "store.close()"
     ],
     "language": "python",
     "metadata": {},
     "outputs": []
    }
   ],
   "metadata": {}
  }
 ]
}