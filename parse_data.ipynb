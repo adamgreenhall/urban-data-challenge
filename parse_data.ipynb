{
 "metadata": {
  "name": "parse_data"
 },
 "nbformat": 3,
 "nbformat_minor": 0,
 "worksheets": [
  {
   "cells": [
    {
     "cell_type": "code",
     "collapsed": false,
     "input": [
      "import pandas as pd"
     ],
     "language": "python",
     "metadata": {},
     "outputs": [],
     "prompt_number": 1
    },
    {
     "cell_type": "code",
     "collapsed": false,
     "input": [
      "store = pd.HDFStore('data/san-francisco/data.hd5')"
     ],
     "language": "python",
     "metadata": {},
     "outputs": [],
     "prompt_number": 2
    },
    {
     "cell_type": "markdown",
     "metadata": {},
     "source": [
      "# Passenger counts"
     ]
    },
    {
     "cell_type": "code",
     "collapsed": false,
     "input": [
      "# there are times that look like 24:xx:xx and 25:xx:xx\n",
      "#https://github.com/swissnexSF/Urban-Data-Challenge/issues/2\n",
      "!grep -n \",2\\(4\\|5\\|6\\|7\\|8\\|9\\):\" data/san-francisco/passenger-count.csv |cut -f1 -d: > data/san-francisco/bad_hour_lines.csv\n",
      "bad_lines = pd.Index(pd.read_csv('data/san-francisco/bad_hour_lines.csv', header=None, squeeze=True).values - 1) # linenos are 1 indexed!\n",
      "print(len(bad_lines))"
     ],
     "language": "python",
     "metadata": {},
     "outputs": [
      {
       "output_type": "stream",
       "stream": "stdout",
       "text": [
        "28878"
       ]
      },
      {
       "output_type": "stream",
       "stream": "stdout",
       "text": [
        "\n"
       ]
      }
     ],
     "prompt_number": 5
    },
    {
     "cell_type": "code",
     "collapsed": false,
     "input": [
      "usecols = [\n",
      "        'MO', 'DAY', 'YR',\n",
      "        'TIMESTOP',\n",
      "        'TIMEDOORCLOSE',\n",
      "        'TIMEPULLOUT',\n",
      "        'ROUTE', 'TRIP_ID', 'STOP_ID',\n",
      "        'ON', 'OFF', 'LOAD',\n",
      "    ]\n",
      "rename_cols = dict(\n",
      "        MO_DAY_YR='date', \n",
      "        ROUTE='id_route',\n",
      "        TRIP_ID='id_trip',\n",
      "        STOP_ID='id_stop',\n",
      "        ON='count_boarding',\n",
      "        OFF='count_exiting',\n",
      "        LOAD='count',\n",
      "        MO_DAY_YR_TIMESTOP='time_stop',\n",
      "        MO_DAY_YR_TIMEDOORCLOSE='time_door_close',\n",
      "        MO_DAY_YR_TIMEPULLOUT='time_pullout',\n",
      "    )"
     ],
     "language": "python",
     "metadata": {},
     "outputs": [],
     "prompt_number": 58
    },
    {
     "cell_type": "markdown",
     "metadata": {},
     "source": [
      "## Parse just the malformed date lines\n",
      "\n",
      "this is going to be a pain"
     ]
    },
    {
     "cell_type": "code",
     "collapsed": false,
     "input": [
      "good_lines = pd.Index(range(513786)).diff(bad_lines).drop(0)\n",
      "df = pd.read_csv('data/san-francisco/passenger-count.csv',\n",
      "    skiprows=good_lines,\n",
      "    usecols=usecols,\n",
      "    parse_dates=[\n",
      "        ['MO', 'DAY', 'YR'],\n",
      "        ]\n",
      "    ).rename(columns=rename_cols)\n",
      "df"
     ],
     "language": "python",
     "metadata": {},
     "outputs": [
      {
       "output_type": "pyout",
       "prompt_number": 28,
       "text": [
        "<class 'pandas.core.frame.DataFrame'>\n",
        "Int64Index: 28878 entries, 0 to 28877\n",
        "Data columns:\n",
        "date              28878  non-null values\n",
        "id_stop           28878  non-null values\n",
        "count_boarding    28878  non-null values\n",
        "count_exiting     28878  non-null values\n",
        "count             28878  non-null values\n",
        "id_route          28878  non-null values\n",
        "id_trip           28878  non-null values\n",
        "TIMESTOP          28878  non-null values\n",
        "TIMEDOORCLOSE     28878  non-null values\n",
        "TIMEPULLOUT       28878  non-null values\n",
        "dtypes: datetime64[ns](1), int64(6), object(3)"
       ]
      }
     ],
     "prompt_number": 28
    },
    {
     "cell_type": "code",
     "collapsed": false,
     "input": [
      "timecols = ['TIMESTOP', 'TIMEDOORCLOSE', 'TIMEPULLOUT']\n",
      "\n",
      "dfbt = df.copy()\n",
      "\n",
      "# yuck!\n",
      "for col in timecols:\n",
      "    hrcol = 'hour_' + col\n",
      "    datecol = 'date_' + col\n",
      "    dfbt[datecol] = dfbt.date.copy().astype(str)\n",
      "    dfbt[hrcol] = dfbt[col].apply(lambda ts: ts.split(':')[0]).astype(int)\n",
      "    \n",
      "    # if the hour is more than 23 (invalid), subtract 24hrs from the hour\n",
      "    dfbt[col][ dfbt[hrcol] > 23 ] = dfbt[col][ dfbt[hrcol] > 23 ].apply(\n",
      "        lambda ts: '{h:02d}:{mmss}'.format(h=int(ts.split(':')[0]) - 24, mmss=ts.split(':', 1)[1])\n",
      "    )\n",
      "    # and add one day to the date\n",
      "    dfbt[datecol][ dfbt[hrcol] > 23 ] = dfbt[datecol][ dfbt[hrcol] > 23 ].apply(lambda date: str(pd.Timestamp(date) + pd.DateOffset(days=1)))\n",
      "    \n",
      "    # put the date and time back together\n",
      "    dfbt[col] = (dfbt[datecol].apply(lambda ts: ts.split(' ')[0].split('T')[0]) + ' ' +  dfbt[col]).apply(lambda t: pd.Timestamp(t))\n",
      "\n",
      "dfbt"
     ],
     "language": "python",
     "metadata": {},
     "outputs": [
      {
       "output_type": "pyout",
       "prompt_number": 44,
       "text": [
        "<class 'pandas.core.frame.DataFrame'>\n",
        "Int64Index: 28878 entries, 0 to 28877\n",
        "Data columns:\n",
        "date                  28878  non-null values\n",
        "id_stop               28878  non-null values\n",
        "count_boarding        28878  non-null values\n",
        "count_exiting         28878  non-null values\n",
        "count                 28878  non-null values\n",
        "id_route              28878  non-null values\n",
        "id_trip               28878  non-null values\n",
        "TIMESTOP              28878  non-null values\n",
        "TIMEDOORCLOSE         28878  non-null values\n",
        "TIMEPULLOUT           28878  non-null values\n",
        "date_TIMESTOP         28878  non-null values\n",
        "hour_TIMESTOP         28878  non-null values\n",
        "date_TIMEDOORCLOSE    28878  non-null values\n",
        "hour_TIMEDOORCLOSE    28878  non-null values\n",
        "date_TIMEPULLOUT      28878  non-null values\n",
        "hour_TIMEPULLOUT      28878  non-null values\n",
        "dtypes: datetime64[ns](1), int64(9), object(6)"
       ]
      }
     ],
     "prompt_number": 44
    },
    {
     "cell_type": "code",
     "collapsed": false,
     "input": [
      "dfbt_clean = dfbt.drop(['date_' + col for col in timecols] + ['hour_' + col for col in timecols], axis=1).rename(columns=dict(\n",
      "    TIMESTOP='time_stop',\n",
      "    TIMEDOORCLOSE='time_door_close',\n",
      "    TIMEPULLOUT='time_pullout',\n",
      "))\n",
      "\n",
      "dfbt_clean"
     ],
     "language": "python",
     "metadata": {},
     "outputs": [
      {
       "output_type": "pyout",
       "prompt_number": 56,
       "text": [
        "<class 'pandas.core.frame.DataFrame'>\n",
        "Int64Index: 28878 entries, 0 to 28877\n",
        "Data columns:\n",
        "date               28878  non-null values\n",
        "id_stop            28878  non-null values\n",
        "count_boarding     28878  non-null values\n",
        "count_exiting      28878  non-null values\n",
        "count              28878  non-null values\n",
        "id_route           28878  non-null values\n",
        "id_trip            28878  non-null values\n",
        "time_stop          28878  non-null values\n",
        "time_door_close    28878  non-null values\n",
        "time_pullout       28878  non-null values\n",
        "dtypes: datetime64[ns](4), int64(6)"
       ]
      }
     ],
     "prompt_number": 56
    },
    {
     "cell_type": "markdown",
     "metadata": {},
     "source": [
      "## Nicely formed lines"
     ]
    },
    {
     "cell_type": "code",
     "collapsed": false,
     "input": [
      "# passenger counts\n",
      "pcounts_good = pd.read_csv('data/san-francisco/passenger-count.csv', \n",
      "    skiprows=bad_lines,\n",
      "    usecols=usecols,\n",
      "    parse_dates=[\n",
      "        ['MO', 'DAY', 'YR'],\n",
      "        ['MO', 'DAY', 'YR', 'TIMESTOP'],\n",
      "        ['MO', 'DAY', 'YR', 'TIMEDOORCLOSE'],\n",
      "        ['MO', 'DAY', 'YR', 'TIMEPULLOUT'],\n",
      "    ]).rename(columns=rename_cols)\n",
      "\n",
      "pcounts_good"
     ],
     "language": "python",
     "metadata": {},
     "outputs": [
      {
       "output_type": "pyout",
       "prompt_number": 60,
       "text": [
        "<class 'pandas.core.frame.DataFrame'>\n",
        "Int64Index: 484907 entries, 0 to 484906\n",
        "Data columns:\n",
        "date               484907  non-null values\n",
        "time_stop          484907  non-null values\n",
        "time_door_close    484907  non-null values\n",
        "time_pullout       484907  non-null values\n",
        "id_stop            484907  non-null values\n",
        "count_boarding     484907  non-null values\n",
        "count_exiting      484907  non-null values\n",
        "count              484907  non-null values\n",
        "id_route           484907  non-null values\n",
        "id_trip            484907  non-null values\n",
        "dtypes: datetime64[ns](4), int64(6)"
       ]
      }
     ],
     "prompt_number": 60
    },
    {
     "cell_type": "markdown",
     "metadata": {},
     "source": [
      "## All the passegener data"
     ]
    },
    {
     "cell_type": "code",
     "collapsed": false,
     "input": [
      "# combine the good and the bad\n",
      "pcounts = pcounts_good.append(dfbt_clean).sort()\n",
      "store['passenger_counts'] = pcounts"
     ],
     "language": "python",
     "metadata": {},
     "outputs": [],
     "prompt_number": 64
    },
    {
     "cell_type": "code",
     "collapsed": false,
     "input": [
      "pcounts"
     ],
     "language": "python",
     "metadata": {},
     "outputs": [
      {
       "output_type": "pyout",
       "prompt_number": 65,
       "text": [
        "<class 'pandas.core.frame.DataFrame'>\n",
        "Int64Index: 513785 entries, 0 to 484906\n",
        "Data columns:\n",
        "count              513785  non-null values\n",
        "count_boarding     513785  non-null values\n",
        "count_exiting      513785  non-null values\n",
        "date               513785  non-null values\n",
        "id_route           513785  non-null values\n",
        "id_stop            513785  non-null values\n",
        "id_trip            513785  non-null values\n",
        "time_door_close    513785  non-null values\n",
        "time_pullout       513785  non-null values\n",
        "time_stop          513785  non-null values\n",
        "dtypes: datetime64[ns](4), int64(6)"
       ]
      }
     ],
     "prompt_number": 65
    },
    {
     "cell_type": "markdown",
     "metadata": {},
     "source": [
      "# Schedule"
     ]
    },
    {
     "cell_type": "code",
     "collapsed": false,
     "input": [
      "schedule = pd.read_csv('data/san-francisco/scheduled-arrivals.csv',\n",
      "    usecols=[\n",
      "        'PUBLIC_ROUTE_NAME',\n",
      "        'TRIP_ID',\n",
      "        'SCHEDULED_ARRIVAL_TIME'\n",
      "        ],\n",
      "    parse_dates=['SCHEDULED_ARRIVAL_TIME']\n",
      "    ).rename(columns=dict(\n",
      "        PUBLIC_ROUTE_NAME='route_name',\n",
      "        TRIP_ID='id_trip',\n",
      "        SCHEDULED_ARRIVAL_TIME='time_scheduled_arrival'\n",
      "    ))\n",
      "\n",
      "schedule"
     ],
     "language": "python",
     "metadata": {},
     "outputs": [
      {
       "output_type": "pyout",
       "prompt_number": 66,
       "text": [
        "<class 'pandas.core.frame.DataFrame'>\n",
        "Int64Index: 641063 entries, 0 to 641062\n",
        "Data columns:\n",
        "route_name                641063  non-null values\n",
        "id_trip                   641063  non-null values\n",
        "time_scheduled_arrival    641063  non-null values\n",
        "dtypes: datetime64[ns](1), int64(1), object(1)"
       ]
      }
     ],
     "prompt_number": 66
    },
    {
     "cell_type": "code",
     "collapsed": false,
     "input": [
      "# translate route_name into id_route\n",
      "# 5xx = xx limited route, 6xx = owl routes, 7xx = xx express route, 8xx = xx BX express route, 9xx = xx AX express route\n",
      "route_ids = {}\n",
      "for rnm in schedule.route_name.unique():\n",
      "    rid = rnm\n",
      "    if str(rnm)[0] in map(lambda n: str(n), range(10)):\n",
      "        if 'AX' in rnm:\n",
      "            rid = '9' + rnm.strip('AX')\n",
      "        elif 'BX' in rnm:\n",
      "            rid = '8' + rnm.strip('BX')\n",
      "        elif 'X' in rnm:\n",
      "            rid = '7' + rnm.strip('X')\n",
      "        elif 'OWL' in rnm:\n",
      "            rid = '6' + rnm.strip(' OWL')\n",
      "        elif rnm.endswith('L'):\n",
      "            rid = '5' + rnm.strip('L')\n",
      "    \n",
      "        rid = int(rid.lstrip('0'))\n",
      "    \n",
      "        route_ids[rnm] = int(rid)\n",
      "    # if it is a lettered route - ignore - it isn't in the passenger counts data \n",
      "route_ids = pd.Series(route_ids)\n",
      "schedule['id_route'] = route_ids[schedule.route_name].values"
     ],
     "language": "python",
     "metadata": {},
     "outputs": [],
     "prompt_number": 111
    },
    {
     "cell_type": "code",
     "collapsed": false,
     "input": [
      "schedule"
     ],
     "language": "python",
     "metadata": {},
     "outputs": [
      {
       "output_type": "pyout",
       "prompt_number": 113,
       "text": [
        "<class 'pandas.core.frame.DataFrame'>\n",
        "Int64Index: 641063 entries, 0 to 641062\n",
        "Data columns:\n",
        "route_name                641063  non-null values\n",
        "id_trip                   641063  non-null values\n",
        "time_scheduled_arrival    641063  non-null values\n",
        "id_route                  508082  non-null values\n",
        "dtypes: datetime64[ns](1), float64(1), int64(1), object(1)"
       ]
      }
     ],
     "prompt_number": 113
    },
    {
     "cell_type": "code",
     "collapsed": false,
     "input": [
      "store['schedule'] = schedule"
     ],
     "language": "python",
     "metadata": {},
     "outputs": [],
     "prompt_number": 114
    },
    {
     "cell_type": "code",
     "collapsed": false,
     "input": [
      "# try and join the schedule and passenger counts on id_trip\n",
      "pd.merge(schedule, pcounts[['id_route', 'id_trip']], left_on='id_trip', right_on='id_trip', how='left')"
     ],
     "language": "python",
     "metadata": {},
     "outputs": [
      {
       "output_type": "pyout",
       "prompt_number": 112,
       "text": [
        "<class 'pandas.core.frame.DataFrame'>\n",
        "Int64Index: 641063 entries, 0 to 641062\n",
        "Data columns:\n",
        "route_name                641063  non-null values\n",
        "id_trip                   641063  non-null values\n",
        "time_scheduled_arrival    641063  non-null values\n",
        "id_route_x                508082  non-null values\n",
        "id_route_y                0  non-null values\n",
        "dtypes: datetime64[ns](1), float64(2), int64(1), object(1)"
       ]
      }
     ],
     "prompt_number": 112
    },
    {
     "cell_type": "code",
     "collapsed": false,
     "input": [
      "# this doesn't work because the two tables have disjoint IDs\n",
      "# look at the trip id values\n",
      "print(schedule.id_trip.unique(), len(schedule.id_trip.unique()))\n",
      "print(pcounts.id_trip.unique()), len(pcounts.id_trip.unique())\n",
      "st = pd.Index(schedule.id_trip.unique())\n",
      "# they dont overlap at all\n",
      "len(st.diff(pcounts.id_trip.unique()))"
     ],
     "language": "python",
     "metadata": {},
     "outputs": [
      {
       "output_type": "stream",
       "stream": "stdout",
       "text": [
        "(array([5212999, 5213002, 5213013, ..., 5251168, 5250904, 5251131]), 27241)\n",
        "[ 758 2318 2410 ..., 2136 2336 2206] 1340\n"
       ]
      },
      {
       "output_type": "pyout",
       "prompt_number": 78,
       "text": [
        "27241"
       ]
      }
     ],
     "prompt_number": 78
    },
    {
     "cell_type": "markdown",
     "metadata": {},
     "source": [
      "# Stops"
     ]
    },
    {
     "cell_type": "code",
     "collapsed": false,
     "input": [
      "stops = pd.read_csv('data/san-francisco/passenger-count.csv', \n",
      "    usecols=[\n",
      "        'STOP_ID',\n",
      "        'STOP_NAME',\n",
      "        'LATITUDE',\n",
      "        'LONGITUDE',\n",
      "        'ROUTE',\n",
      "        'DIR',\n",
      "        'STOP_SEQ',\n",
      "    ]).rename(columns=dict(\n",
      "        ROUTE='id_route',\n",
      "        STOP_ID='id_stop',\n",
      "        STOP_SEQ='stop_seq',\n",
      "        STOP_NAME='stop_name',\n",
      "        LATITUDE='latitude',\n",
      "        LONGITUDE='longitude',\n",
      "        DIR='direction_inbound',\n",
      "    ))\n",
      "\n",
      "# the latitude on the original dataset isn't negative\n",
      "stops['longitude']  *= -1\n",
      "\n",
      "# the stop_ids are duplicated between different routes\n",
      "# print len(stops.groupby('id_stop').first())\n",
      "# print len(stops.groupby(['id_route', 'id_stop']).first())\n",
      "\n",
      "stops = stops.groupby(['id_route', 'id_stop']).first()\n",
      "store['stops'] = stops\n",
      "stops"
     ],
     "language": "python",
     "metadata": {},
     "outputs": [
      {
       "output_type": "pyout",
       "prompt_number": 115,
       "text": [
        "<class 'pandas.core.frame.DataFrame'>\n",
        "MultiIndex: 5586 entries, (1, 3546) to (938, 7302)\n",
        "Data columns:\n",
        "stop_seq             5586  non-null values\n",
        "stop_name            5586  non-null values\n",
        "latitude             5586  non-null values\n",
        "longitude            5586  non-null values\n",
        "direction_inbound    5586  non-null values\n",
        "dtypes: float64(4), object(1)"
       ]
      }
     ],
     "prompt_number": 115
    },
    {
     "cell_type": "code",
     "collapsed": false,
     "input": [
      "store.close()"
     ],
     "language": "python",
     "metadata": {},
     "outputs": [],
     "prompt_number": 116
    }
   ],
   "metadata": {}
  }
 ]
}