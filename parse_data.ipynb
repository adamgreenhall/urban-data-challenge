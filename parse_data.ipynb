{
 "metadata": {
  "name": "parse_data"
 },
 "nbformat": 3,
 "nbformat_minor": 0,
 "worksheets": [
  {
   "cells": [
    {
     "cell_type": "code",
     "collapsed": false,
     "input": [
      "import pandas as pd"
     ],
     "language": "python",
     "metadata": {},
     "outputs": [],
     "prompt_number": 1
    },
    {
     "cell_type": "code",
     "collapsed": false,
     "input": [
      "store = pd.HDFStore('data/san-francisco/data.hd5')"
     ],
     "language": "python",
     "metadata": {},
     "outputs": [],
     "prompt_number": 12
    },
    {
     "cell_type": "markdown",
     "metadata": {},
     "source": [
      "# Passenger counts"
     ]
    },
    {
     "cell_type": "code",
     "collapsed": false,
     "input": [
      "# there are times that look like 24:xx:xx and 25:xx:xx\n",
      "#https://github.com/swissnexSF/Urban-Data-Challenge/issues/2\n",
      "!grep -n \",2\\(4\\|5\\|6\\|7\\|8\\|9\\):\" data/san-francisco/passenger-count.csv |cut -f1 -d: > data/san-francisco/bad_hour_lines.csv\n",
      "bad_lines = pd.Index(pd.read_csv('data/san-francisco/bad_hour_lines.csv', header=None, squeeze=True).values - 1) # linenos are 1 indexed!\n",
      "print(len(bad_lines))"
     ],
     "language": "python",
     "metadata": {},
     "outputs": [
      {
       "output_type": "stream",
       "stream": "stdout",
       "text": [
        "28878"
       ]
      },
      {
       "output_type": "stream",
       "stream": "stdout",
       "text": [
        "\n"
       ]
      }
     ],
     "prompt_number": 3
    },
    {
     "cell_type": "code",
     "collapsed": false,
     "input": [
      "usecols = [\n",
      "        'MO', 'DAY', 'YR',\n",
      "        'TIMESTOP',\n",
      "        'TIMEDOORCLOSE',\n",
      "        'TIMEPULLOUT',\n",
      "        'ROUTE', 'TRIP_ID', 'STOP_ID',\n",
      "        'ON', 'OFF', 'LOAD',\n",
      "    ]\n",
      "rename_cols = dict(\n",
      "        MO_DAY_YR='date', \n",
      "        ROUTE='id_route',\n",
      "        TRIP_ID='id_trip',\n",
      "        STOP_ID='id_stop',\n",
      "        ON='count_boarding',\n",
      "        OFF='count_exiting',\n",
      "        LOAD='count'\n",
      "        # MO_DAY_YR_TIMESTOP='time_stop',\n",
      "        # MO_DAY_YR_TIMEDOORCLOSE='time_door_close',\n",
      "        # MO_DAY_YR_TIMEPULLOUT='time_pullout',\n",
      "    )"
     ],
     "language": "python",
     "metadata": {},
     "outputs": []
    },
    {
     "cell_type": "markdown",
     "metadata": {},
     "source": [
      "## Malformed lines\n",
      "\n",
      "this is going to be a pain"
     ]
    },
    {
     "cell_type": "code",
     "collapsed": false,
     "input": [
      "good_lines = pd.Index(range(513786)).diff(bad_lines).drop(0)\n",
      "dfbt = pd.read_csv('data/san-francisco/passenger-count.csv',\n",
      "    skiprows=good_lines,\n",
      "    usecols=usecols,\n",
      "    parse_dates=[\n",
      "        ['MO', 'DAY', 'YR'],\n",
      "        ]\n",
      "    ).rename(columns=rename_cols)\n",
      "dfbt"
     ],
     "language": "python",
     "metadata": {},
     "outputs": [
      {
       "output_type": "pyout",
       "prompt_number": 43,
       "text": [
        "<class 'pandas.core.frame.DataFrame'>\n",
        "Int64Index: 501402 entries, 0 to 501401\n",
        "Data columns:\n",
        "MO_DAY_YR        501402  non-null values\n",
        "STOP_ID          501402  non-null values\n",
        "ON               501402  non-null values\n",
        "OFF              501402  non-null values\n",
        "LOAD             501402  non-null values\n",
        "ROUTE            501402  non-null values\n",
        "TRIP_ID          501402  non-null values\n",
        "TIMESTOP         501402  non-null values\n",
        "TIMEDOORCLOSE    501402  non-null values\n",
        "TIMEPULLOUT      501402  non-null values\n",
        "dtypes: int64(6), object(4)"
       ]
      }
     ],
     "prompt_number": 43
    },
    {
     "cell_type": "code",
     "collapsed": false,
     "input": [
      "timecols = ['TIMESTOP', 'TIMEDOORCLOSE', 'TIMEPULLOUT']\n",
      "\n",
      "for col in timecols:\n",
      "    hrcol = 'hour_' + col\n",
      "    datecol = 'date_' + col\n",
      "    dfbt[datecol] = dfbt.date.copy().astype(str)\n",
      "    dfbt[hrcol] = dfbt[col].apply(lambda ts: ts.split(':')[0]).astype(int)\n",
      "    dfbt[col][ dfbt[hrcol] > 23 ] = dfbt[col][ dfbt[hrcol] > 23 ].apply(\n",
      "        lambda ts: '{h:02d}:{mmss}'.format(h=int(ts.split(':')[0]) - 24, mmss=ts.split(':', 1)[1]))\n",
      "    )\n",
      "    dfbt[datecol][ dfbt[hrcol] > 23 ] += pd.DateOffset(days=1)\n",
      "    \n",
      "    dfbt[col] = (dfbt[datecol] + dfbt[col]).apply(lambda t: pd.Timestamp(t))"
     ],
     "language": "python",
     "metadata": {},
     "outputs": [],
     "prompt_number": 52
    },
    {
     "cell_type": "markdown",
     "metadata": {},
     "source": [
      "## Nicely formed lines"
     ]
    },
    {
     "cell_type": "code",
     "collapsed": false,
     "input": [
      "# passenger counts\n",
      "pcounts = pd.read_csv('data/san-francisco/passenger-count.csv', \n",
      "    skiprows=bad_lines,\n",
      "    usecols=[\n",
      "        'MO', 'DAY', 'YR',\n",
      "        'TIMESTOP',\n",
      "        'TIMEDOORCLOSE',\n",
      "        'TIMEPULLOUT',\n",
      "        'ROUTE', 'TRIP_ID', 'STOP_ID',\n",
      "        'ON', 'OFF', 'LOAD',\n",
      "    ],\n",
      "    parse_dates=[\n",
      "        ['MO', 'DAY', 'YR'],\n",
      "        ['MO', 'DAY', 'YR', 'TIMESTOP'],\n",
      "        ['MO', 'DAY', 'YR', 'TIMEDOORCLOSE'],\n",
      "        ['MO', 'DAY', 'YR', 'TIMEPULLOUT'],\n",
      "    ]).rename(columns=dict(\n",
      "        MO_DAY_YR='date', \n",
      "        ROUTE='id_route',\n",
      "        TRIP_ID='id_trip',\n",
      "        STOP_ID='id_stop',\n",
      "        \n",
      "        MO_DAY_YR_TIMESTOP='time_stop',\n",
      "        MO_DAY_YR_TIMEDOORCLOSE='time_door_close',\n",
      "        MO_DAY_YR_TIMEPULLOUT='time_pullout',\n",
      "        ON='count_boarding',\n",
      "        OFF='count_exiting',\n",
      "        LOAD='count'\n",
      "    ))\n",
      "\n",
      "store['passenger_counts'] = pcounts\n",
      "pcounts"
     ],
     "language": "python",
     "metadata": {},
     "outputs": [
      {
       "output_type": "pyout",
       "prompt_number": 4,
       "text": [
        "<class 'pandas.core.frame.DataFrame'>\n",
        "Int64Index: 484907 entries, 0 to 484906\n",
        "Data columns:\n",
        "date               484907  non-null values\n",
        "time_stop          484907  non-null values\n",
        "time_door_close    484907  non-null values\n",
        "time_pullout       484907  non-null values\n",
        "id_stop            484907  non-null values\n",
        "count_boarding     484907  non-null values\n",
        "count_exiting      484907  non-null values\n",
        "count              484907  non-null values\n",
        "id_route           484907  non-null values\n",
        "id_trip            484907  non-null values\n",
        "dtypes: int64(6), object(4)"
       ]
      }
     ],
     "prompt_number": 4
    },
    {
     "cell_type": "markdown",
     "metadata": {},
     "source": [
      "# Schedule"
     ]
    },
    {
     "cell_type": "code",
     "collapsed": false,
     "input": [
      "schedule = pd.read_csv('data/san-francisco/scheduled-arrivals.csv',\n",
      "    usecols=[\n",
      "        'PUBLIC_ROUTE_NAME',\n",
      "        'TRIP_ID',\n",
      "        'SCHEDULED_ARRIVAL_TIME'\n",
      "        ],\n",
      "    parse_dates=['SCHEDULED_ARRIVAL_TIME']\n",
      "    ).rename(columns=dict(\n",
      "        PUBLIC_ROUTE_NAME='route_name',\n",
      "        TRIP_ID='id_trip',\n",
      "        SCHEDULED_ARRIVAL_TIME='time_scheduled_arrival'\n",
      "    ))\n",
      "\n",
      "# store['schedule'] = schedule\n",
      "schedule"
     ],
     "language": "python",
     "metadata": {},
     "outputs": [
      {
       "output_type": "pyout",
       "prompt_number": 23,
       "text": [
        "<class 'pandas.core.frame.DataFrame'>\n",
        "Int64Index: 641063 entries, 0 to 641062\n",
        "Data columns:\n",
        "route_name                641063  non-null values\n",
        "id_trip                   641063  non-null values\n",
        "time_scheduled_arrival    641063  non-null values\n",
        "dtypes: int64(1), object(2)"
       ]
      }
     ],
     "prompt_number": 23
    },
    {
     "cell_type": "code",
     "collapsed": false,
     "input": [
      "pd.merge(schedule, pcounts[['id_route', 'id_trip']], left_on='id_trip', right_on='id_trip', how='left')"
     ],
     "language": "python",
     "metadata": {},
     "outputs": [
      {
       "output_type": "pyout",
       "prompt_number": 24,
       "text": [
        "<class 'pandas.core.frame.DataFrame'>\n",
        "Int64Index: 641063 entries, 0 to 641062\n",
        "Data columns:\n",
        "route_name                641063  non-null values\n",
        "id_trip                   641063  non-null values\n",
        "time_scheduled_arrival    641063  non-null values\n",
        "id_route                  0  non-null values\n",
        "dtypes: float64(1), int64(1), object(2)"
       ]
      }
     ],
     "prompt_number": 24
    },
    {
     "cell_type": "markdown",
     "metadata": {},
     "source": [
      "# Stops"
     ]
    },
    {
     "cell_type": "code",
     "collapsed": false,
     "input": [
      "stops = pd.read_csv('data/san-francisco/passenger-count.csv', \n",
      "    usecols=[\n",
      "        'STOP_ID',\n",
      "        'STOP_NAME',\n",
      "        'LATITUDE',\n",
      "        'LONGITUDE',\n",
      "        'ROUTE',\n",
      "        'DIR',\n",
      "        'STOP_SEQ',\n",
      "    ]).rename(columns=dict(\n",
      "        ROUTE='id_route',\n",
      "        STOP_ID='id_stop',\n",
      "        STOP_SEQ='stop_seq',\n",
      "        STOP_NAME='stop_name',\n",
      "        LATITUDE='latitude',\n",
      "        LONGITUDE='longitude',\n",
      "        DIR='direction_inbound',\n",
      "    ))\n",
      "\n",
      "# the latitude on the original dataset isn't negative\n",
      "stops['longitude']  *= -1\n",
      "\n",
      "# the stop_ids are duplicated between different routes\n",
      "# print len(stops.groupby('id_stop').first())\n",
      "# print len(stops.groupby(['id_route', 'id_stop']).first())\n",
      "\n",
      "stops = stops.groupby(['id_route', 'id_stop']).first()\n",
      "store['stops'] = stops\n",
      "stops"
     ],
     "language": "python",
     "metadata": {},
     "outputs": [
      {
       "output_type": "pyout",
       "prompt_number": 10,
       "text": [
        "<class 'pandas.core.frame.DataFrame'>\n",
        "MultiIndex: 5586 entries, (1, 3546) to (938, 7302)\n",
        "Data columns:\n",
        "stop_seq             5586  non-null values\n",
        "stop_name            5586  non-null values\n",
        "latitude             5586  non-null values\n",
        "longitude            5586  non-null values\n",
        "direction_inbound    5586  non-null values\n",
        "dtypes: float64(4), object(1)"
       ]
      }
     ],
     "prompt_number": 10
    },
    {
     "cell_type": "code",
     "collapsed": false,
     "input": [
      "store.close()"
     ],
     "language": "python",
     "metadata": {},
     "outputs": [],
     "prompt_number": 11
    }
   ],
   "metadata": {}
  }
 ]
}