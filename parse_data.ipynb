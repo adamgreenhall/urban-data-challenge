{
 "metadata": {
  "name": "parse_data"
 },
 "nbformat": 3,
 "nbformat_minor": 0,
 "worksheets": [
  {
   "cells": [
    {
     "cell_type": "code",
     "collapsed": false,
     "input": [
      "import pandas as pd\n",
      "from utils import df_to_json, json"
     ],
     "language": "python",
     "metadata": {},
     "outputs": [],
     "prompt_number": 1
    },
    {
     "cell_type": "code",
     "collapsed": false,
     "input": [
      "# there are times that look like 24:xx:xx and 25:xx:xx\n",
      "#https://github.com/swissnexSF/Urban-Data-Challenge/issues/2\n",
      "!grep -n \",2\\(4\\|5\\|6\\|7\\|8\\|9\\):\" data/san-francisco/passenger-count.csv |cut -f1 -d: > data/san-francisco/bad_hour_lines.csv\n",
      "bad_lines = pd.read_csv('data/san-francisco/bad_hour_lines.csv', header=None, squeeze=True).values - 1 # linenos are 1 indexed!\n",
      "print(len(bad_lines))"
     ],
     "language": "python",
     "metadata": {},
     "outputs": [
      {
       "output_type": "stream",
       "stream": "stdout",
       "text": [
        "28878"
       ]
      },
      {
       "output_type": "stream",
       "stream": "stdout",
       "text": [
        "\n"
       ]
      }
     ],
     "prompt_number": 81
    },
    {
     "cell_type": "code",
     "collapsed": false,
     "input": [
      "pcounts = pd.read_csv('data/san-francisco/passenger-count.csv', \n",
      "    skiprows=bad_lines,\n",
      "    usecols=[\n",
      "        'MO', 'DAY', 'YR',\n",
      "        'TIMESTOP',\n",
      "        'TIMEDOORCLOSE',\n",
      "        'TIMEPULLOUT',\n",
      "        'STOPID', 'ROUTE', 'TRIP_ID', 'STOP_ID',\n",
      "        # 'STOP_NAME', 'STOP_SEQ',\n",
      "        # 'DIR', 'VEHNO',\n",
      "        'ON', 'OFF', 'LOAD',\n",
      "    ],\n",
      "    parse_dates=[\n",
      "        ['MO', 'DAY', 'YR'],\n",
      "        ['MO', 'DAY', 'YR', 'TIMESTOP'],\n",
      "        ['MO', 'DAY', 'YR', 'TIMEDOORCLOSE'],\n",
      "        ['MO', 'DAY', 'YR', 'TIMEPULLOUT'],\n",
      "    ]).rename(columns=dict(\n",
      "        MO_DAY_YR='date', \n",
      "        MO_DAY_YR_TIMESTOP='time_stop',\n",
      "        MO_DAY_YR_TIMEDOORCLOSE='time_door_close',\n",
      "        MO_DAY_YR_TIMEPULLOUT='time_pullout',\n",
      "        ))\n",
      "\n",
      "pcounts"
     ],
     "language": "python",
     "metadata": {},
     "outputs": [
      {
       "output_type": "pyout",
       "prompt_number": 82,
       "text": [
        "<class 'pandas.core.frame.DataFrame'>\n",
        "Int64Index: 484907 entries, 0 to 484906\n",
        "Data columns:\n",
        "date               484907  non-null values\n",
        "time_stop          484907  non-null values\n",
        "time_door_close    484907  non-null values\n",
        "time_pullout       484907  non-null values\n",
        "STOP_ID            484907  non-null values\n",
        "ON                 484907  non-null values\n",
        "OFF                484907  non-null values\n",
        "LOAD               484907  non-null values\n",
        "ROUTE              484907  non-null values\n",
        "TRIP_ID            484907  non-null values\n",
        "dtypes: int64(6), object(4)"
       ]
      }
     ],
     "prompt_number": 82
    },
    {
     "cell_type": "code",
     "collapsed": false,
     "input": [
      "pcounts['stop_seconds'] = (pcounts.time_pullout - pcounts.time_stop).apply(lambda t: t.total_seconds())\n",
      "pcounts.stop_seconds.describe()"
     ],
     "language": "python",
     "metadata": {},
     "outputs": [
      {
       "output_type": "pyout",
       "prompt_number": 85,
       "text": [
        "count    484907.000000\n",
        "mean         43.528930\n",
        "std         136.224619\n",
        "min           0.000000\n",
        "25%           0.000000\n",
        "50%          18.000000\n",
        "75%          40.000000\n",
        "max        6630.000000"
       ]
      }
     ],
     "prompt_number": 85
    },
    {
     "cell_type": "code",
     "collapsed": false,
     "input": [
      "stop_variability = pcounts.groupby('STOP_ID').stop_seconds.agg([np.mean, np.std])\n",
      "stop_variability[['mean', 'std']].head()"
     ],
     "language": "python",
     "metadata": {},
     "outputs": [
      {
       "html": [
        "<div style=\"max-height:1000px;max-width:1500px;overflow:auto;\">\n",
        "<table border=\"1\" class=\"dataframe\">\n",
        "  <thead>\n",
        "    <tr style=\"text-align: right;\">\n",
        "      <th></th>\n",
        "      <th>mean</th>\n",
        "      <th>std</th>\n",
        "    </tr>\n",
        "    <tr>\n",
        "      <th>STOP_ID</th>\n",
        "      <th></th>\n",
        "      <th></th>\n",
        "    </tr>\n",
        "  </thead>\n",
        "  <tbody>\n",
        "    <tr>\n",
        "      <td><strong>390 </strong></td>\n",
        "      <td> 41.789873</td>\n",
        "      <td>  31.800279</td>\n",
        "    </tr>\n",
        "    <tr>\n",
        "      <td><strong>660 </strong></td>\n",
        "      <td>  0.000000</td>\n",
        "      <td>   0.000000</td>\n",
        "    </tr>\n",
        "    <tr>\n",
        "      <td><strong>913 </strong></td>\n",
        "      <td> 34.426667</td>\n",
        "      <td>  88.976986</td>\n",
        "    </tr>\n",
        "    <tr>\n",
        "      <td><strong>3003</strong></td>\n",
        "      <td> 51.333333</td>\n",
        "      <td> 115.004244</td>\n",
        "    </tr>\n",
        "    <tr>\n",
        "      <td><strong>3004</strong></td>\n",
        "      <td> 35.358491</td>\n",
        "      <td>  19.829169</td>\n",
        "    </tr>\n",
        "  </tbody>\n",
        "</table>\n",
        "</div>"
       ],
       "output_type": "pyout",
       "prompt_number": 103,
       "text": [
        "              mean         std\n",
        "STOP_ID                       \n",
        "390      41.789873   31.800279\n",
        "660       0.000000    0.000000\n",
        "913      34.426667   88.976986\n",
        "3003     51.333333  115.004244\n",
        "3004     35.358491   19.829169"
       ]
      }
     ],
     "prompt_number": 103
    },
    {
     "cell_type": "markdown",
     "metadata": {},
     "source": [
      "# Mapping"
     ]
    },
    {
     "cell_type": "code",
     "collapsed": false,
     "input": [
      "stops = pd.read_csv('data/san-francisco/passenger-count.csv', \n",
      "    usecols=[\n",
      "        'STOP_ID',\n",
      "        'STOP_NAME',\n",
      "        'LATITUDE',\n",
      "        'LONGITUDE',\n",
      "        'ROUTE',\n",
      "        'DIR',\n",
      "        'STOP_SEQ',\n",
      "    ])\n",
      "\n",
      "# the latitude on the original dataset isn't negative\n",
      "stops['LONGITUDE']  *= -1"
     ],
     "language": "python",
     "metadata": {},
     "outputs": [],
     "prompt_number": 2
    },
    {
     "cell_type": "code",
     "collapsed": false,
     "input": [
      "# get the city's center for a map \n",
      "print(stops[['LATITUDE', 'LONGITUDE']].mean().tolist())\n",
      "\n",
      "# get the bounds\n",
      "print(stops[['LATITUDE', 'LONGITUDE']].min().tolist())\n",
      "print(stops[['LATITUDE', 'LONGITUDE']].max().tolist())"
     ],
     "language": "python",
     "metadata": {},
     "outputs": [
      {
       "output_type": "stream",
       "stream": "stdout",
       "text": [
        "[37.76115761188684, -122.43510619226662]\n",
        "[37.705909999999996, -122.53922]\n",
        "[37.83607, -122.36972]\n"
       ]
      }
     ],
     "prompt_number": 11
    },
    {
     "cell_type": "code",
     "collapsed": false,
     "input": [
      "print len(stops.groupby('STOP_ID').first())\n",
      "# the stop_ids are duplicated between different routes\n",
      "print len(stops.groupby(['ROUTE', 'STOP_ID']).first())"
     ],
     "language": "python",
     "metadata": {},
     "outputs": [
      {
       "output_type": "stream",
       "stream": "stdout",
       "text": [
        "3341\n",
        "5586\n"
       ]
      }
     ],
     "prompt_number": 199
    },
    {
     "cell_type": "code",
     "collapsed": false,
     "input": [
      "stops = stops.groupby(['ROUTE', 'STOP_ID']).first()\n",
      "stops"
     ],
     "language": "python",
     "metadata": {},
     "outputs": [
      {
       "output_type": "pyout",
       "prompt_number": 10,
       "text": [
        "<class 'pandas.core.frame.DataFrame'>\n",
        "MultiIndex: 5586 entries, (1, 3546) to (938, 7302)\n",
        "Data columns:\n",
        "STOP_SEQ     5586  non-null values\n",
        "STOP_NAME    5586  non-null values\n",
        "LATITUDE     5586  non-null values\n",
        "LONGITUDE    5586  non-null values\n",
        "DIR          5586  non-null values\n",
        "dtypes: float64(4), object(1)"
       ]
      }
     ],
     "prompt_number": 10
    },
    {
     "cell_type": "code",
     "collapsed": false,
     "input": [
      "# make some json\n",
      "df_to_json(stops, 'stops_sf.json');"
     ],
     "language": "python",
     "metadata": {},
     "outputs": [],
     "prompt_number": 12
    },
    {
     "cell_type": "code",
     "collapsed": false,
     "input": [
      "routes = []\n",
      "for route, route_stops in stops.reset_index().groupby('ROUTE').groups.iteritems():\n",
      "    routes.append({'route': str(route),\n",
      "         'stops': df_to_json(\n",
      "            stops.ix[route_stops].sort(['DIR', 'STOP_SEQ']).reset_index().drop('ROUTE', axis=1).set_index(['DIR', 'STOP_ID'])\n",
      "          )\n",
      "    })\n",
      "with open('routes_sf.json', 'w+') as f: f.write(json.dumps(routes))"
     ],
     "language": "python",
     "metadata": {},
     "outputs": [],
     "prompt_number": 15
    }
   ],
   "metadata": {}
  }
 ]
}