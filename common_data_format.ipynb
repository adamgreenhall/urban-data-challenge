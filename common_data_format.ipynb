{
 "metadata": {
  "name": "common_data_format"
 },
 "nbformat": 3,
 "nbformat_minor": 0,
 "worksheets": [
  {
   "cells": [
    {
     "cell_type": "code",
     "collapsed": false,
     "input": [
      "import pandas as pd"
     ],
     "language": "python",
     "metadata": {},
     "outputs": [],
     "prompt_number": 1
    },
    {
     "cell_type": "markdown",
     "metadata": {},
     "source": [
      "# San Francisco"
     ]
    },
    {
     "cell_type": "code",
     "collapsed": false,
     "input": [
      "store = pd.HDFStore('data/san-francisco/data.hd5')"
     ],
     "language": "python",
     "metadata": {},
     "outputs": [],
     "prompt_number": 14
    },
    {
     "cell_type": "code",
     "collapsed": false,
     "input": [
      "cols = ['id_stop', 'time_arrival', 'count', 'count_boarding', 'count_exiting']\n",
      "store['pcounts'].rename(columns=dict(\n",
      "    time_stop='time_arrival'))[cols].to_csv('data/common_format/san-francisco.csv')"
     ],
     "language": "python",
     "metadata": {},
     "outputs": []
    },
    {
     "cell_type": "code",
     "collapsed": false,
     "input": [
      "store.close()"
     ],
     "language": "python",
     "metadata": {},
     "outputs": [],
     "prompt_number": 17
    },
    {
     "cell_type": "markdown",
     "metadata": {},
     "source": [
      "# Geneva"
     ]
    },
    {
     "cell_type": "code",
     "collapsed": false,
     "input": [
      "store = pd.HDFStore('data/geneva/data.hd5')"
     ],
     "language": "python",
     "metadata": {},
     "outputs": [],
     "prompt_number": 3
    },
    {
     "cell_type": "code",
     "collapsed": false,
     "input": [
      "ts_data = store['passenger_counts']\n",
      "ts_data"
     ],
     "language": "python",
     "metadata": {},
     "outputs": [
      {
       "output_type": "pyout",
       "prompt_number": 4,
       "text": [
        "<class 'pandas.core.frame.DataFrame'>\n",
        "Int64Index: 1169057 entries, 0 to 1169056\n",
        "Data columns:\n",
        "date                      1169057  non-null values\n",
        "id_route                  1168881  non-null values\n",
        "id_trip                   1169057  non-null values\n",
        "direction_inbound         1169057  non-null values\n",
        "stop_seq                  1169057  non-null values\n",
        "id_stop                   1169057  non-null values\n",
        "time_scheduled_arrival    1169057  non-null values\n",
        "time_arrival              1169057  non-null values\n",
        "count_boarding            1169057  non-null values\n",
        "count_exiting             1169057  non-null values\n",
        "count                     1169057  non-null values\n",
        "dtypes: bool(1), int64(5), object(5)"
       ]
      }
     ],
     "prompt_number": 4
    },
    {
     "cell_type": "code",
     "collapsed": false,
     "input": [
      "ts_data.drop(['direction_inbound', 'stop_seq'], axis=1)[\n",
      "    index_ordered_cols + ordered_cols\n",
      "].to_csv('data/common_format/geneva.csv', index=False)"
     ],
     "language": "python",
     "metadata": {},
     "outputs": [],
     "prompt_number": 9
    },
    {
     "cell_type": "code",
     "collapsed": false,
     "input": [
      "store.close()"
     ],
     "language": "python",
     "metadata": {},
     "outputs": [],
     "prompt_number": 10
    },
    {
     "cell_type": "markdown",
     "metadata": {},
     "source": [
      "# Zurich"
     ]
    },
    {
     "cell_type": "code",
     "collapsed": false,
     "input": [
      "store = pd.HDFStore('data/zurich/data.hd5')\n",
      "store"
     ],
     "language": "python",
     "metadata": {},
     "outputs": [],
     "prompt_number": "*"
    },
    {
     "cell_type": "code",
     "collapsed": false,
     "input": [
      "store['sched_counts'][\n",
      "    ['date', 'id_route', 'id_trip', 'id_stop'] + \\\n",
      "    ['time_arrival', 'time_scheduled_arrival', 'count', 'count_boarding', 'count_exiting', 'time_departure', 'time_scheduled_departure']\n",
      "    ].to_csv('data/common_format/zurich.csv', index=False)"
     ],
     "language": "python",
     "metadata": {},
     "outputs": []
    },
    {
     "cell_type": "code",
     "collapsed": false,
     "input": [
      "store.close()"
     ],
     "language": "python",
     "metadata": {},
     "outputs": [],
     "prompt_number": 13
    }
   ],
   "metadata": {}
  }
 ]
}